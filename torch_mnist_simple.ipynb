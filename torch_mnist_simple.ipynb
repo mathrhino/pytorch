{
  "nbformat": 4,
  "nbformat_minor": 0,
  "metadata": {
    "colab": {
      "name": "torch_mnist_simple",
      "provenance": [],
      "authorship_tag": "ABX9TyM929HG1InQN1n2ECpKJg5x",
      "include_colab_link": true
    },
    "kernelspec": {
      "name": "python3",
      "display_name": "Python 3"
    }
  },
  "cells": [
    {
      "cell_type": "markdown",
      "metadata": {
        "id": "view-in-github",
        "colab_type": "text"
      },
      "source": [
        "<a href=\"https://colab.research.google.com/github/mathrhino/pytorch/blob/main/torch_mnist_simple.ipynb\" target=\"_parent\"><img src=\"https://colab.research.google.com/assets/colab-badge.svg\" alt=\"Open In Colab\"/></a>"
      ]
    },
    {
      "cell_type": "code",
      "metadata": {
        "id": "R9IaiVpJ0-sM"
      },
      "source": [
        "import torch\n",
        "\n",
        "import torch.nn as nn\n",
        "import torch.nn.functional as F \n",
        "import torch.optim as optim\n",
        "\n",
        "from torchvision import datasets, transforms"
      ],
      "execution_count": 35,
      "outputs": []
    },
    {
      "cell_type": "code",
      "metadata": {
        "id": "dZZucSE01Im5"
      },
      "source": [
        "seed =1 \n",
        "lr = 0.001\n",
        "momentum =0.5\n",
        "\n",
        "batch_size =64\n",
        "test_batch_size=64\n",
        "\n",
        "epochs =1 \n",
        "no_cuda =False\n",
        "log_interval =100"
      ],
      "execution_count": 36,
      "outputs": []
    },
    {
      "cell_type": "code",
      "metadata": {
        "id": "nihuUiHdEiOX"
      },
      "source": [
        "class Net(nn.Module):\n",
        "  def __init__(self):\n",
        "    super(Net, self).__init__()\n",
        "    self.conv1 = nn.Conv2d(1,20,5,1)\n",
        "    self.conv2 = nn.Conv2d(20,50,5,1)\n",
        "    self.fc1= nn.Linear(4*4*50, 500)\n",
        "    self.fc2 = nn.Linear(500, 10)\n",
        "\n",
        "  def forward(self, x):\n",
        "    x = F.relu(self.conv1(x))\n",
        "    x = F.max_pool2d(x,2,2)\n",
        "    x= F.relu(self.conv2(x))\n",
        "    x=F.max_pool2d(x,2,2)\n",
        "    x=x.view(-1, 4*4*50)\n",
        "    x=F.relu(self.fc1(x))\n",
        "    x = self.fc2(x)\n",
        "    return F.log_softmax(x, dim=1)"
      ],
      "execution_count": 37,
      "outputs": []
    },
    {
      "cell_type": "code",
      "metadata": {
        "id": "nH-qoXhyJNhn"
      },
      "source": [
        "torch.manual_seed(seed)\n",
        "\n",
        "use_cuda = not no_cuda and torch.cuda.is_available()\n",
        "device = torch.device(\"cuda\" if use_cuda else \"cpu\")\n",
        "\n",
        "kwargs ={'num_workers': 1, 'pin_memory': True} if use_cuda else {}\n",
        "\n",
        "train_loader = torch.utils.data.DataLoader(\n",
        "            datasets.MNIST('../data', train=True, download=True, transform=transforms.Compose([\n",
        "                transforms.ToTensor(),\n",
        "                transforms.Normalize((0.1307,), (0.3081,))\n",
        "                ])),\n",
        "            batch_size=batch_size,\n",
        "            shuffle=True)\n",
        "\n",
        "test_loader = torch.utils.data.DataLoader(\n",
        "    datasets.MNIST('../data', train=False, transform=transforms.Compose([\n",
        "                                                                         transforms.ToTensor(),\n",
        "                                                                         transforms.Normalize((0.1307,),(0.3081,))\n",
        "    ])),\n",
        "    batch_size=test_batch_size, shuffle=True, **kwargs\n",
        ")"
      ],
      "execution_count": 38,
      "outputs": []
    },
    {
      "cell_type": "code",
      "metadata": {
        "id": "a8EYgl2IKV0x"
      },
      "source": [
        "model = Net().to(device)\n",
        "optimizer=optim.SGD(model.parameters(), lr=lr, momentum=momentum)"
      ],
      "execution_count": 39,
      "outputs": []
    },
    {
      "cell_type": "code",
      "metadata": {
        "colab": {
          "base_uri": "https://localhost:8080/"
        },
        "id": "0RHpmj-bK7sm",
        "outputId": "2c68d044-b4d1-47db-e45e-a460e450c850"
      },
      "source": [
        "for epoch in range(1, epochs +1):\n",
        "  model.train()\n",
        "\n",
        "  for batch_idx, (data, target) in enumerate(train_loader):\n",
        "    data, target =data.to(device), target.to(device)\n",
        "    optimizer.zero_grad()\n",
        "    output = model(data)\n",
        "    loss = F.nll_loss(output, target)\n",
        "    loss.backward()\n",
        "    optimizer.step()\n",
        "\n",
        "    if batch_idx % log_interval ==0:\n",
        "      print('Train Epoch: {}[{}/{} ({:.0f}%)]\\tLoss: {:.6f}'.format(\n",
        "          epoch, batch_idx *len(data), len(train_loader.dataset),\n",
        "          100. * batch_idx / len(train_loader), loss.item()\n",
        "      ))\n",
        "  model.eval()\n",
        "  test_loss=0\n",
        "  correct = 0\n",
        "  with torch.no_grad():\n",
        "    for data, target in test_loader:\n",
        "      data, target = data.to(device), target.to(device)\n",
        "      output = model(data)\n",
        "      test_loss += F.nll_loss(output, target, reduction='sum').item()\n",
        "      pred = output.argmax(dim=1, keepdim=True)\n",
        "      correct += pred.eq(target.view_as(pred)).sum().item()\n",
        "  test_loss /= len(test_loader.dataset)\n",
        "\n",
        "  print('\\tTest set: Average loss: {:4f}, Accuracy: {}/{} ({:.0f}%)\\n'. format(\n",
        "      test_loss, correct, len(test_loader.dataset),\n",
        "      100. * correct / len(test_loader.dataset)\n",
        "  ))"
      ],
      "execution_count": 41,
      "outputs": [
        {
          "output_type": "stream",
          "text": [
            "Train Epoch: 1[0/60000 (0%)]\tLoss: 2.295366\n",
            "Train Epoch: 1[6400/60000 (11%)]\tLoss: 2.220284\n",
            "Train Epoch: 1[12800/60000 (21%)]\tLoss: 2.136019\n",
            "Train Epoch: 1[19200/60000 (32%)]\tLoss: 1.953842\n",
            "Train Epoch: 1[25600/60000 (43%)]\tLoss: 1.498457\n",
            "Train Epoch: 1[32000/60000 (53%)]\tLoss: 1.254111\n",
            "Train Epoch: 1[38400/60000 (64%)]\tLoss: 0.842578\n",
            "Train Epoch: 1[44800/60000 (75%)]\tLoss: 0.706257\n",
            "Train Epoch: 1[51200/60000 (85%)]\tLoss: 0.586765\n",
            "Train Epoch: 1[57600/60000 (96%)]\tLoss: 0.612415\n",
            "\tTest set: Average loss: 0.486875, Accuracy: 8609/10000 (86%)\n",
            "\n"
          ],
          "name": "stdout"
        }
      ]
    },
    {
      "cell_type": "code",
      "metadata": {
        "id": "d2c6A9awNLuB"
      },
      "source": [
        ""
      ],
      "execution_count": 40,
      "outputs": []
    }
  ]
}