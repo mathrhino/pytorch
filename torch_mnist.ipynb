{
  "nbformat": 4,
  "nbformat_minor": 0,
  "metadata": {
    "colab": {
      "name": "torch_mnist",
      "provenance": [],
      "authorship_tag": "ABX9TyM7Imxv3rpDt0IvthcDTyf3",
      "include_colab_link": true
    },
    "kernelspec": {
      "name": "python3",
      "display_name": "Python 3"
    },
    "widgets": {
      "application/vnd.jupyter.widget-state+json": {
        "f70842d47a5048d8998f36ddffa59c1b": {
          "model_module": "@jupyter-widgets/controls",
          "model_name": "HBoxModel",
          "state": {
            "_view_name": "HBoxView",
            "_dom_classes": [],
            "_model_name": "HBoxModel",
            "_view_module": "@jupyter-widgets/controls",
            "_model_module_version": "1.5.0",
            "_view_count": null,
            "_view_module_version": "1.5.0",
            "box_style": "",
            "layout": "IPY_MODEL_74b087379aed4ebfbb071d926d277b4a",
            "_model_module": "@jupyter-widgets/controls",
            "children": [
              "IPY_MODEL_1b7b1400ec08449fb1022ded34533e0f",
              "IPY_MODEL_8abfa50a3c02413eaf7826c8bc282893"
            ]
          }
        },
        "74b087379aed4ebfbb071d926d277b4a": {
          "model_module": "@jupyter-widgets/base",
          "model_name": "LayoutModel",
          "state": {
            "_view_name": "LayoutView",
            "grid_template_rows": null,
            "right": null,
            "justify_content": null,
            "_view_module": "@jupyter-widgets/base",
            "overflow": null,
            "_model_module_version": "1.2.0",
            "_view_count": null,
            "flex_flow": null,
            "width": null,
            "min_width": null,
            "border": null,
            "align_items": null,
            "bottom": null,
            "_model_module": "@jupyter-widgets/base",
            "top": null,
            "grid_column": null,
            "overflow_y": null,
            "overflow_x": null,
            "grid_auto_flow": null,
            "grid_area": null,
            "grid_template_columns": null,
            "flex": null,
            "_model_name": "LayoutModel",
            "justify_items": null,
            "grid_row": null,
            "max_height": null,
            "align_content": null,
            "visibility": null,
            "align_self": null,
            "height": null,
            "min_height": null,
            "padding": null,
            "grid_auto_rows": null,
            "grid_gap": null,
            "max_width": null,
            "order": null,
            "_view_module_version": "1.2.0",
            "grid_template_areas": null,
            "object_position": null,
            "object_fit": null,
            "grid_auto_columns": null,
            "margin": null,
            "display": null,
            "left": null
          }
        },
        "1b7b1400ec08449fb1022ded34533e0f": {
          "model_module": "@jupyter-widgets/controls",
          "model_name": "FloatProgressModel",
          "state": {
            "_view_name": "ProgressView",
            "style": "IPY_MODEL_50a43017c6bc4baf86632e1bfb62d4c1",
            "_dom_classes": [],
            "description": "",
            "_model_name": "FloatProgressModel",
            "bar_style": "success",
            "max": 1,
            "_view_module": "@jupyter-widgets/controls",
            "_model_module_version": "1.5.0",
            "value": 1,
            "_view_count": null,
            "_view_module_version": "1.5.0",
            "orientation": "horizontal",
            "min": 0,
            "description_tooltip": null,
            "_model_module": "@jupyter-widgets/controls",
            "layout": "IPY_MODEL_aa5123f63a5147b6b299f81a32812ee5"
          }
        },
        "8abfa50a3c02413eaf7826c8bc282893": {
          "model_module": "@jupyter-widgets/controls",
          "model_name": "HTMLModel",
          "state": {
            "_view_name": "HTMLView",
            "style": "IPY_MODEL_6b439808d4214e41846982600aa71221",
            "_dom_classes": [],
            "description": "",
            "_model_name": "HTMLModel",
            "placeholder": "​",
            "_view_module": "@jupyter-widgets/controls",
            "_model_module_version": "1.5.0",
            "value": " 9920512/? [00:03&lt;00:00, 3050014.52it/s]",
            "_view_count": null,
            "_view_module_version": "1.5.0",
            "description_tooltip": null,
            "_model_module": "@jupyter-widgets/controls",
            "layout": "IPY_MODEL_57c2bcc5fed14c7488f5efd939cbde05"
          }
        },
        "50a43017c6bc4baf86632e1bfb62d4c1": {
          "model_module": "@jupyter-widgets/controls",
          "model_name": "ProgressStyleModel",
          "state": {
            "_view_name": "StyleView",
            "_model_name": "ProgressStyleModel",
            "description_width": "initial",
            "_view_module": "@jupyter-widgets/base",
            "_model_module_version": "1.5.0",
            "_view_count": null,
            "_view_module_version": "1.2.0",
            "bar_color": null,
            "_model_module": "@jupyter-widgets/controls"
          }
        },
        "aa5123f63a5147b6b299f81a32812ee5": {
          "model_module": "@jupyter-widgets/base",
          "model_name": "LayoutModel",
          "state": {
            "_view_name": "LayoutView",
            "grid_template_rows": null,
            "right": null,
            "justify_content": null,
            "_view_module": "@jupyter-widgets/base",
            "overflow": null,
            "_model_module_version": "1.2.0",
            "_view_count": null,
            "flex_flow": null,
            "width": null,
            "min_width": null,
            "border": null,
            "align_items": null,
            "bottom": null,
            "_model_module": "@jupyter-widgets/base",
            "top": null,
            "grid_column": null,
            "overflow_y": null,
            "overflow_x": null,
            "grid_auto_flow": null,
            "grid_area": null,
            "grid_template_columns": null,
            "flex": null,
            "_model_name": "LayoutModel",
            "justify_items": null,
            "grid_row": null,
            "max_height": null,
            "align_content": null,
            "visibility": null,
            "align_self": null,
            "height": null,
            "min_height": null,
            "padding": null,
            "grid_auto_rows": null,
            "grid_gap": null,
            "max_width": null,
            "order": null,
            "_view_module_version": "1.2.0",
            "grid_template_areas": null,
            "object_position": null,
            "object_fit": null,
            "grid_auto_columns": null,
            "margin": null,
            "display": null,
            "left": null
          }
        },
        "6b439808d4214e41846982600aa71221": {
          "model_module": "@jupyter-widgets/controls",
          "model_name": "DescriptionStyleModel",
          "state": {
            "_view_name": "StyleView",
            "_model_name": "DescriptionStyleModel",
            "description_width": "",
            "_view_module": "@jupyter-widgets/base",
            "_model_module_version": "1.5.0",
            "_view_count": null,
            "_view_module_version": "1.2.0",
            "_model_module": "@jupyter-widgets/controls"
          }
        },
        "57c2bcc5fed14c7488f5efd939cbde05": {
          "model_module": "@jupyter-widgets/base",
          "model_name": "LayoutModel",
          "state": {
            "_view_name": "LayoutView",
            "grid_template_rows": null,
            "right": null,
            "justify_content": null,
            "_view_module": "@jupyter-widgets/base",
            "overflow": null,
            "_model_module_version": "1.2.0",
            "_view_count": null,
            "flex_flow": null,
            "width": null,
            "min_width": null,
            "border": null,
            "align_items": null,
            "bottom": null,
            "_model_module": "@jupyter-widgets/base",
            "top": null,
            "grid_column": null,
            "overflow_y": null,
            "overflow_x": null,
            "grid_auto_flow": null,
            "grid_area": null,
            "grid_template_columns": null,
            "flex": null,
            "_model_name": "LayoutModel",
            "justify_items": null,
            "grid_row": null,
            "max_height": null,
            "align_content": null,
            "visibility": null,
            "align_self": null,
            "height": null,
            "min_height": null,
            "padding": null,
            "grid_auto_rows": null,
            "grid_gap": null,
            "max_width": null,
            "order": null,
            "_view_module_version": "1.2.0",
            "grid_template_areas": null,
            "object_position": null,
            "object_fit": null,
            "grid_auto_columns": null,
            "margin": null,
            "display": null,
            "left": null
          }
        },
        "5724c75b72ee4e1ea272166e7e7ccdd3": {
          "model_module": "@jupyter-widgets/controls",
          "model_name": "HBoxModel",
          "state": {
            "_view_name": "HBoxView",
            "_dom_classes": [],
            "_model_name": "HBoxModel",
            "_view_module": "@jupyter-widgets/controls",
            "_model_module_version": "1.5.0",
            "_view_count": null,
            "_view_module_version": "1.5.0",
            "box_style": "",
            "layout": "IPY_MODEL_9bee7e9fb7d549e790d719b663b9225e",
            "_model_module": "@jupyter-widgets/controls",
            "children": [
              "IPY_MODEL_4332f4f8106f445089e05930156f5edd",
              "IPY_MODEL_887acdb75b4e4e468ddf7a5aa0e1f97c"
            ]
          }
        },
        "9bee7e9fb7d549e790d719b663b9225e": {
          "model_module": "@jupyter-widgets/base",
          "model_name": "LayoutModel",
          "state": {
            "_view_name": "LayoutView",
            "grid_template_rows": null,
            "right": null,
            "justify_content": null,
            "_view_module": "@jupyter-widgets/base",
            "overflow": null,
            "_model_module_version": "1.2.0",
            "_view_count": null,
            "flex_flow": null,
            "width": null,
            "min_width": null,
            "border": null,
            "align_items": null,
            "bottom": null,
            "_model_module": "@jupyter-widgets/base",
            "top": null,
            "grid_column": null,
            "overflow_y": null,
            "overflow_x": null,
            "grid_auto_flow": null,
            "grid_area": null,
            "grid_template_columns": null,
            "flex": null,
            "_model_name": "LayoutModel",
            "justify_items": null,
            "grid_row": null,
            "max_height": null,
            "align_content": null,
            "visibility": null,
            "align_self": null,
            "height": null,
            "min_height": null,
            "padding": null,
            "grid_auto_rows": null,
            "grid_gap": null,
            "max_width": null,
            "order": null,
            "_view_module_version": "1.2.0",
            "grid_template_areas": null,
            "object_position": null,
            "object_fit": null,
            "grid_auto_columns": null,
            "margin": null,
            "display": null,
            "left": null
          }
        },
        "4332f4f8106f445089e05930156f5edd": {
          "model_module": "@jupyter-widgets/controls",
          "model_name": "FloatProgressModel",
          "state": {
            "_view_name": "ProgressView",
            "style": "IPY_MODEL_f69edcfc42604df5a569563fcb7544b2",
            "_dom_classes": [],
            "description": "",
            "_model_name": "FloatProgressModel",
            "bar_style": "success",
            "max": 1,
            "_view_module": "@jupyter-widgets/controls",
            "_model_module_version": "1.5.0",
            "value": 1,
            "_view_count": null,
            "_view_module_version": "1.5.0",
            "orientation": "horizontal",
            "min": 0,
            "description_tooltip": null,
            "_model_module": "@jupyter-widgets/controls",
            "layout": "IPY_MODEL_aebc576ab67b437b9886d9cac229e42c"
          }
        },
        "887acdb75b4e4e468ddf7a5aa0e1f97c": {
          "model_module": "@jupyter-widgets/controls",
          "model_name": "HTMLModel",
          "state": {
            "_view_name": "HTMLView",
            "style": "IPY_MODEL_3bc1ab4b0a87455f86cdad96f56fd8ea",
            "_dom_classes": [],
            "description": "",
            "_model_name": "HTMLModel",
            "placeholder": "​",
            "_view_module": "@jupyter-widgets/controls",
            "_model_module_version": "1.5.0",
            "value": " 32768/? [00:00&lt;00:00, 109734.24it/s]",
            "_view_count": null,
            "_view_module_version": "1.5.0",
            "description_tooltip": null,
            "_model_module": "@jupyter-widgets/controls",
            "layout": "IPY_MODEL_fc7a4335cd1b4cec98560060b237b701"
          }
        },
        "f69edcfc42604df5a569563fcb7544b2": {
          "model_module": "@jupyter-widgets/controls",
          "model_name": "ProgressStyleModel",
          "state": {
            "_view_name": "StyleView",
            "_model_name": "ProgressStyleModel",
            "description_width": "initial",
            "_view_module": "@jupyter-widgets/base",
            "_model_module_version": "1.5.0",
            "_view_count": null,
            "_view_module_version": "1.2.0",
            "bar_color": null,
            "_model_module": "@jupyter-widgets/controls"
          }
        },
        "aebc576ab67b437b9886d9cac229e42c": {
          "model_module": "@jupyter-widgets/base",
          "model_name": "LayoutModel",
          "state": {
            "_view_name": "LayoutView",
            "grid_template_rows": null,
            "right": null,
            "justify_content": null,
            "_view_module": "@jupyter-widgets/base",
            "overflow": null,
            "_model_module_version": "1.2.0",
            "_view_count": null,
            "flex_flow": null,
            "width": null,
            "min_width": null,
            "border": null,
            "align_items": null,
            "bottom": null,
            "_model_module": "@jupyter-widgets/base",
            "top": null,
            "grid_column": null,
            "overflow_y": null,
            "overflow_x": null,
            "grid_auto_flow": null,
            "grid_area": null,
            "grid_template_columns": null,
            "flex": null,
            "_model_name": "LayoutModel",
            "justify_items": null,
            "grid_row": null,
            "max_height": null,
            "align_content": null,
            "visibility": null,
            "align_self": null,
            "height": null,
            "min_height": null,
            "padding": null,
            "grid_auto_rows": null,
            "grid_gap": null,
            "max_width": null,
            "order": null,
            "_view_module_version": "1.2.0",
            "grid_template_areas": null,
            "object_position": null,
            "object_fit": null,
            "grid_auto_columns": null,
            "margin": null,
            "display": null,
            "left": null
          }
        },
        "3bc1ab4b0a87455f86cdad96f56fd8ea": {
          "model_module": "@jupyter-widgets/controls",
          "model_name": "DescriptionStyleModel",
          "state": {
            "_view_name": "StyleView",
            "_model_name": "DescriptionStyleModel",
            "description_width": "",
            "_view_module": "@jupyter-widgets/base",
            "_model_module_version": "1.5.0",
            "_view_count": null,
            "_view_module_version": "1.2.0",
            "_model_module": "@jupyter-widgets/controls"
          }
        },
        "fc7a4335cd1b4cec98560060b237b701": {
          "model_module": "@jupyter-widgets/base",
          "model_name": "LayoutModel",
          "state": {
            "_view_name": "LayoutView",
            "grid_template_rows": null,
            "right": null,
            "justify_content": null,
            "_view_module": "@jupyter-widgets/base",
            "overflow": null,
            "_model_module_version": "1.2.0",
            "_view_count": null,
            "flex_flow": null,
            "width": null,
            "min_width": null,
            "border": null,
            "align_items": null,
            "bottom": null,
            "_model_module": "@jupyter-widgets/base",
            "top": null,
            "grid_column": null,
            "overflow_y": null,
            "overflow_x": null,
            "grid_auto_flow": null,
            "grid_area": null,
            "grid_template_columns": null,
            "flex": null,
            "_model_name": "LayoutModel",
            "justify_items": null,
            "grid_row": null,
            "max_height": null,
            "align_content": null,
            "visibility": null,
            "align_self": null,
            "height": null,
            "min_height": null,
            "padding": null,
            "grid_auto_rows": null,
            "grid_gap": null,
            "max_width": null,
            "order": null,
            "_view_module_version": "1.2.0",
            "grid_template_areas": null,
            "object_position": null,
            "object_fit": null,
            "grid_auto_columns": null,
            "margin": null,
            "display": null,
            "left": null
          }
        },
        "44b0dd3b8dfe4014a070976040033004": {
          "model_module": "@jupyter-widgets/controls",
          "model_name": "HBoxModel",
          "state": {
            "_view_name": "HBoxView",
            "_dom_classes": [],
            "_model_name": "HBoxModel",
            "_view_module": "@jupyter-widgets/controls",
            "_model_module_version": "1.5.0",
            "_view_count": null,
            "_view_module_version": "1.5.0",
            "box_style": "",
            "layout": "IPY_MODEL_5fef22a3ac294e17898271409db01b93",
            "_model_module": "@jupyter-widgets/controls",
            "children": [
              "IPY_MODEL_b84440367ba34cffab357dbfcfc05a45",
              "IPY_MODEL_cd11dcde8fd04c8dac8781b6d4db7d7e"
            ]
          }
        },
        "5fef22a3ac294e17898271409db01b93": {
          "model_module": "@jupyter-widgets/base",
          "model_name": "LayoutModel",
          "state": {
            "_view_name": "LayoutView",
            "grid_template_rows": null,
            "right": null,
            "justify_content": null,
            "_view_module": "@jupyter-widgets/base",
            "overflow": null,
            "_model_module_version": "1.2.0",
            "_view_count": null,
            "flex_flow": null,
            "width": null,
            "min_width": null,
            "border": null,
            "align_items": null,
            "bottom": null,
            "_model_module": "@jupyter-widgets/base",
            "top": null,
            "grid_column": null,
            "overflow_y": null,
            "overflow_x": null,
            "grid_auto_flow": null,
            "grid_area": null,
            "grid_template_columns": null,
            "flex": null,
            "_model_name": "LayoutModel",
            "justify_items": null,
            "grid_row": null,
            "max_height": null,
            "align_content": null,
            "visibility": null,
            "align_self": null,
            "height": null,
            "min_height": null,
            "padding": null,
            "grid_auto_rows": null,
            "grid_gap": null,
            "max_width": null,
            "order": null,
            "_view_module_version": "1.2.0",
            "grid_template_areas": null,
            "object_position": null,
            "object_fit": null,
            "grid_auto_columns": null,
            "margin": null,
            "display": null,
            "left": null
          }
        },
        "b84440367ba34cffab357dbfcfc05a45": {
          "model_module": "@jupyter-widgets/controls",
          "model_name": "FloatProgressModel",
          "state": {
            "_view_name": "ProgressView",
            "style": "IPY_MODEL_a273ab2d69454135ad98efd30b8b2654",
            "_dom_classes": [],
            "description": "",
            "_model_name": "FloatProgressModel",
            "bar_style": "success",
            "max": 1,
            "_view_module": "@jupyter-widgets/controls",
            "_model_module_version": "1.5.0",
            "value": 1,
            "_view_count": null,
            "_view_module_version": "1.5.0",
            "orientation": "horizontal",
            "min": 0,
            "description_tooltip": null,
            "_model_module": "@jupyter-widgets/controls",
            "layout": "IPY_MODEL_ec34fec36c124b578c7ad6cbaa1026e5"
          }
        },
        "cd11dcde8fd04c8dac8781b6d4db7d7e": {
          "model_module": "@jupyter-widgets/controls",
          "model_name": "HTMLModel",
          "state": {
            "_view_name": "HTMLView",
            "style": "IPY_MODEL_c731e87042f547b69ee019f0e4b8da89",
            "_dom_classes": [],
            "description": "",
            "_model_name": "HTMLModel",
            "placeholder": "​",
            "_view_module": "@jupyter-widgets/controls",
            "_model_module_version": "1.5.0",
            "value": " 1654784/? [00:01&lt;00:00, 1116365.25it/s]",
            "_view_count": null,
            "_view_module_version": "1.5.0",
            "description_tooltip": null,
            "_model_module": "@jupyter-widgets/controls",
            "layout": "IPY_MODEL_0df05c76e90d479e93fe0d6aa7d03092"
          }
        },
        "a273ab2d69454135ad98efd30b8b2654": {
          "model_module": "@jupyter-widgets/controls",
          "model_name": "ProgressStyleModel",
          "state": {
            "_view_name": "StyleView",
            "_model_name": "ProgressStyleModel",
            "description_width": "initial",
            "_view_module": "@jupyter-widgets/base",
            "_model_module_version": "1.5.0",
            "_view_count": null,
            "_view_module_version": "1.2.0",
            "bar_color": null,
            "_model_module": "@jupyter-widgets/controls"
          }
        },
        "ec34fec36c124b578c7ad6cbaa1026e5": {
          "model_module": "@jupyter-widgets/base",
          "model_name": "LayoutModel",
          "state": {
            "_view_name": "LayoutView",
            "grid_template_rows": null,
            "right": null,
            "justify_content": null,
            "_view_module": "@jupyter-widgets/base",
            "overflow": null,
            "_model_module_version": "1.2.0",
            "_view_count": null,
            "flex_flow": null,
            "width": null,
            "min_width": null,
            "border": null,
            "align_items": null,
            "bottom": null,
            "_model_module": "@jupyter-widgets/base",
            "top": null,
            "grid_column": null,
            "overflow_y": null,
            "overflow_x": null,
            "grid_auto_flow": null,
            "grid_area": null,
            "grid_template_columns": null,
            "flex": null,
            "_model_name": "LayoutModel",
            "justify_items": null,
            "grid_row": null,
            "max_height": null,
            "align_content": null,
            "visibility": null,
            "align_self": null,
            "height": null,
            "min_height": null,
            "padding": null,
            "grid_auto_rows": null,
            "grid_gap": null,
            "max_width": null,
            "order": null,
            "_view_module_version": "1.2.0",
            "grid_template_areas": null,
            "object_position": null,
            "object_fit": null,
            "grid_auto_columns": null,
            "margin": null,
            "display": null,
            "left": null
          }
        },
        "c731e87042f547b69ee019f0e4b8da89": {
          "model_module": "@jupyter-widgets/controls",
          "model_name": "DescriptionStyleModel",
          "state": {
            "_view_name": "StyleView",
            "_model_name": "DescriptionStyleModel",
            "description_width": "",
            "_view_module": "@jupyter-widgets/base",
            "_model_module_version": "1.5.0",
            "_view_count": null,
            "_view_module_version": "1.2.0",
            "_model_module": "@jupyter-widgets/controls"
          }
        },
        "0df05c76e90d479e93fe0d6aa7d03092": {
          "model_module": "@jupyter-widgets/base",
          "model_name": "LayoutModel",
          "state": {
            "_view_name": "LayoutView",
            "grid_template_rows": null,
            "right": null,
            "justify_content": null,
            "_view_module": "@jupyter-widgets/base",
            "overflow": null,
            "_model_module_version": "1.2.0",
            "_view_count": null,
            "flex_flow": null,
            "width": null,
            "min_width": null,
            "border": null,
            "align_items": null,
            "bottom": null,
            "_model_module": "@jupyter-widgets/base",
            "top": null,
            "grid_column": null,
            "overflow_y": null,
            "overflow_x": null,
            "grid_auto_flow": null,
            "grid_area": null,
            "grid_template_columns": null,
            "flex": null,
            "_model_name": "LayoutModel",
            "justify_items": null,
            "grid_row": null,
            "max_height": null,
            "align_content": null,
            "visibility": null,
            "align_self": null,
            "height": null,
            "min_height": null,
            "padding": null,
            "grid_auto_rows": null,
            "grid_gap": null,
            "max_width": null,
            "order": null,
            "_view_module_version": "1.2.0",
            "grid_template_areas": null,
            "object_position": null,
            "object_fit": null,
            "grid_auto_columns": null,
            "margin": null,
            "display": null,
            "left": null
          }
        },
        "e9eb93636edf47e9add5d85ab454b691": {
          "model_module": "@jupyter-widgets/controls",
          "model_name": "HBoxModel",
          "state": {
            "_view_name": "HBoxView",
            "_dom_classes": [],
            "_model_name": "HBoxModel",
            "_view_module": "@jupyter-widgets/controls",
            "_model_module_version": "1.5.0",
            "_view_count": null,
            "_view_module_version": "1.5.0",
            "box_style": "",
            "layout": "IPY_MODEL_425974afa23843ab91c8304c256df3cd",
            "_model_module": "@jupyter-widgets/controls",
            "children": [
              "IPY_MODEL_7883ad5110144e5a862532574feb2562",
              "IPY_MODEL_290c3317560d446099c80e26d7be6c18"
            ]
          }
        },
        "425974afa23843ab91c8304c256df3cd": {
          "model_module": "@jupyter-widgets/base",
          "model_name": "LayoutModel",
          "state": {
            "_view_name": "LayoutView",
            "grid_template_rows": null,
            "right": null,
            "justify_content": null,
            "_view_module": "@jupyter-widgets/base",
            "overflow": null,
            "_model_module_version": "1.2.0",
            "_view_count": null,
            "flex_flow": null,
            "width": null,
            "min_width": null,
            "border": null,
            "align_items": null,
            "bottom": null,
            "_model_module": "@jupyter-widgets/base",
            "top": null,
            "grid_column": null,
            "overflow_y": null,
            "overflow_x": null,
            "grid_auto_flow": null,
            "grid_area": null,
            "grid_template_columns": null,
            "flex": null,
            "_model_name": "LayoutModel",
            "justify_items": null,
            "grid_row": null,
            "max_height": null,
            "align_content": null,
            "visibility": null,
            "align_self": null,
            "height": null,
            "min_height": null,
            "padding": null,
            "grid_auto_rows": null,
            "grid_gap": null,
            "max_width": null,
            "order": null,
            "_view_module_version": "1.2.0",
            "grid_template_areas": null,
            "object_position": null,
            "object_fit": null,
            "grid_auto_columns": null,
            "margin": null,
            "display": null,
            "left": null
          }
        },
        "7883ad5110144e5a862532574feb2562": {
          "model_module": "@jupyter-widgets/controls",
          "model_name": "FloatProgressModel",
          "state": {
            "_view_name": "ProgressView",
            "style": "IPY_MODEL_36662484eb474f2fb7224913f1a10e1c",
            "_dom_classes": [],
            "description": "",
            "_model_name": "FloatProgressModel",
            "bar_style": "success",
            "max": 1,
            "_view_module": "@jupyter-widgets/controls",
            "_model_module_version": "1.5.0",
            "value": 1,
            "_view_count": null,
            "_view_module_version": "1.5.0",
            "orientation": "horizontal",
            "min": 0,
            "description_tooltip": null,
            "_model_module": "@jupyter-widgets/controls",
            "layout": "IPY_MODEL_e27a39ebfcf745bf84ac04095347dba9"
          }
        },
        "290c3317560d446099c80e26d7be6c18": {
          "model_module": "@jupyter-widgets/controls",
          "model_name": "HTMLModel",
          "state": {
            "_view_name": "HTMLView",
            "style": "IPY_MODEL_51ffe71fe2d549aca1f36d980e25aac4",
            "_dom_classes": [],
            "description": "",
            "_model_name": "HTMLModel",
            "placeholder": "​",
            "_view_module": "@jupyter-widgets/controls",
            "_model_module_version": "1.5.0",
            "value": " 8192/? [00:00&lt;00:00, 14568.33it/s]",
            "_view_count": null,
            "_view_module_version": "1.5.0",
            "description_tooltip": null,
            "_model_module": "@jupyter-widgets/controls",
            "layout": "IPY_MODEL_98279c2d6c644989a65cb4d59227aba7"
          }
        },
        "36662484eb474f2fb7224913f1a10e1c": {
          "model_module": "@jupyter-widgets/controls",
          "model_name": "ProgressStyleModel",
          "state": {
            "_view_name": "StyleView",
            "_model_name": "ProgressStyleModel",
            "description_width": "initial",
            "_view_module": "@jupyter-widgets/base",
            "_model_module_version": "1.5.0",
            "_view_count": null,
            "_view_module_version": "1.2.0",
            "bar_color": null,
            "_model_module": "@jupyter-widgets/controls"
          }
        },
        "e27a39ebfcf745bf84ac04095347dba9": {
          "model_module": "@jupyter-widgets/base",
          "model_name": "LayoutModel",
          "state": {
            "_view_name": "LayoutView",
            "grid_template_rows": null,
            "right": null,
            "justify_content": null,
            "_view_module": "@jupyter-widgets/base",
            "overflow": null,
            "_model_module_version": "1.2.0",
            "_view_count": null,
            "flex_flow": null,
            "width": null,
            "min_width": null,
            "border": null,
            "align_items": null,
            "bottom": null,
            "_model_module": "@jupyter-widgets/base",
            "top": null,
            "grid_column": null,
            "overflow_y": null,
            "overflow_x": null,
            "grid_auto_flow": null,
            "grid_area": null,
            "grid_template_columns": null,
            "flex": null,
            "_model_name": "LayoutModel",
            "justify_items": null,
            "grid_row": null,
            "max_height": null,
            "align_content": null,
            "visibility": null,
            "align_self": null,
            "height": null,
            "min_height": null,
            "padding": null,
            "grid_auto_rows": null,
            "grid_gap": null,
            "max_width": null,
            "order": null,
            "_view_module_version": "1.2.0",
            "grid_template_areas": null,
            "object_position": null,
            "object_fit": null,
            "grid_auto_columns": null,
            "margin": null,
            "display": null,
            "left": null
          }
        },
        "51ffe71fe2d549aca1f36d980e25aac4": {
          "model_module": "@jupyter-widgets/controls",
          "model_name": "DescriptionStyleModel",
          "state": {
            "_view_name": "StyleView",
            "_model_name": "DescriptionStyleModel",
            "description_width": "",
            "_view_module": "@jupyter-widgets/base",
            "_model_module_version": "1.5.0",
            "_view_count": null,
            "_view_module_version": "1.2.0",
            "_model_module": "@jupyter-widgets/controls"
          }
        },
        "98279c2d6c644989a65cb4d59227aba7": {
          "model_module": "@jupyter-widgets/base",
          "model_name": "LayoutModel",
          "state": {
            "_view_name": "LayoutView",
            "grid_template_rows": null,
            "right": null,
            "justify_content": null,
            "_view_module": "@jupyter-widgets/base",
            "overflow": null,
            "_model_module_version": "1.2.0",
            "_view_count": null,
            "flex_flow": null,
            "width": null,
            "min_width": null,
            "border": null,
            "align_items": null,
            "bottom": null,
            "_model_module": "@jupyter-widgets/base",
            "top": null,
            "grid_column": null,
            "overflow_y": null,
            "overflow_x": null,
            "grid_auto_flow": null,
            "grid_area": null,
            "grid_template_columns": null,
            "flex": null,
            "_model_name": "LayoutModel",
            "justify_items": null,
            "grid_row": null,
            "max_height": null,
            "align_content": null,
            "visibility": null,
            "align_self": null,
            "height": null,
            "min_height": null,
            "padding": null,
            "grid_auto_rows": null,
            "grid_gap": null,
            "max_width": null,
            "order": null,
            "_view_module_version": "1.2.0",
            "grid_template_areas": null,
            "object_position": null,
            "object_fit": null,
            "grid_auto_columns": null,
            "margin": null,
            "display": null,
            "left": null
          }
        }
      }
    }
  },
  "cells": [
    {
      "cell_type": "markdown",
      "metadata": {
        "id": "view-in-github",
        "colab_type": "text"
      },
      "source": [
        "<a href=\"https://colab.research.google.com/github/mathrhino/pytorch/blob/main/torch_mnist.ipynb\" target=\"_parent\"><img src=\"https://colab.research.google.com/assets/colab-badge.svg\" alt=\"Open In Colab\"/></a>"
      ]
    },
    {
      "cell_type": "code",
      "metadata": {
        "id": "Zg26dDsw2pGb"
      },
      "source": [
        "import torch \n",
        "from torchvision import datasets, transforms\n",
        "from torchvision.utils import save_image\n",
        "import numpy as np\n",
        "import matplotlib.pyplot as plt\n",
        "import torch.nn as nn\n",
        "import torch.nn.functional as F \n",
        "import torch.optim as optim\n",
        "import os\n",
        "from glob import \n",
        "\n",
        "%matplotlib inline"
      ],
      "execution_count": 5,
      "outputs": []
    },
    {
      "cell_type": "code",
      "metadata": {
        "id": "0-3VmUi72xeR"
      },
      "source": [
        "test_batch_size=32"
      ],
      "execution_count": 6,
      "outputs": []
    },
    {
      "cell_type": "code",
      "metadata": {
        "id": "MImcyUeT21To",
        "colab": {
          "base_uri": "https://localhost:8080/",
          "height": 399,
          "referenced_widgets": [
            "f70842d47a5048d8998f36ddffa59c1b",
            "74b087379aed4ebfbb071d926d277b4a",
            "1b7b1400ec08449fb1022ded34533e0f",
            "8abfa50a3c02413eaf7826c8bc282893",
            "50a43017c6bc4baf86632e1bfb62d4c1",
            "aa5123f63a5147b6b299f81a32812ee5",
            "6b439808d4214e41846982600aa71221",
            "57c2bcc5fed14c7488f5efd939cbde05",
            "5724c75b72ee4e1ea272166e7e7ccdd3",
            "9bee7e9fb7d549e790d719b663b9225e",
            "4332f4f8106f445089e05930156f5edd",
            "887acdb75b4e4e468ddf7a5aa0e1f97c",
            "f69edcfc42604df5a569563fcb7544b2",
            "aebc576ab67b437b9886d9cac229e42c",
            "3bc1ab4b0a87455f86cdad96f56fd8ea",
            "fc7a4335cd1b4cec98560060b237b701",
            "44b0dd3b8dfe4014a070976040033004",
            "5fef22a3ac294e17898271409db01b93",
            "b84440367ba34cffab357dbfcfc05a45",
            "cd11dcde8fd04c8dac8781b6d4db7d7e",
            "a273ab2d69454135ad98efd30b8b2654",
            "ec34fec36c124b578c7ad6cbaa1026e5",
            "c731e87042f547b69ee019f0e4b8da89",
            "0df05c76e90d479e93fe0d6aa7d03092",
            "e9eb93636edf47e9add5d85ab454b691",
            "425974afa23843ab91c8304c256df3cd",
            "7883ad5110144e5a862532574feb2562",
            "290c3317560d446099c80e26d7be6c18",
            "36662484eb474f2fb7224913f1a10e1c",
            "e27a39ebfcf745bf84ac04095347dba9",
            "51ffe71fe2d549aca1f36d980e25aac4",
            "98279c2d6c644989a65cb4d59227aba7"
          ]
        },
        "outputId": "dc1f20f1-342a-412a-8de9-8d6189e93eb0"
      },
      "source": [
        "train_loader = torch.utils.data.DataLoader(\n",
        "    datasets.MNIST('dataset/', train=True, download=True,\n",
        "                   transform=transforms.Compose([\n",
        "                                                  transforms.ToTensor(),\n",
        "                                                 \n",
        "                   ])),\n",
        "                   batch_size=1,\n",
        "                   shuffle=True\n",
        ")"
      ],
      "execution_count": 7,
      "outputs": [
        {
          "output_type": "stream",
          "text": [
            "Downloading http://yann.lecun.com/exdb/mnist/train-images-idx3-ubyte.gz to dataset/MNIST/raw/train-images-idx3-ubyte.gz\n"
          ],
          "name": "stdout"
        },
        {
          "output_type": "display_data",
          "data": {
            "application/vnd.jupyter.widget-view+json": {
              "model_id": "f70842d47a5048d8998f36ddffa59c1b",
              "version_minor": 0,
              "version_major": 2
            },
            "text/plain": [
              "HBox(children=(FloatProgress(value=1.0, bar_style='info', max=1.0), HTML(value='')))"
            ]
          },
          "metadata": {
            "tags": []
          }
        },
        {
          "output_type": "stream",
          "text": [
            "Extracting dataset/MNIST/raw/train-images-idx3-ubyte.gz to dataset/MNIST/raw\n",
            "Downloading http://yann.lecun.com/exdb/mnist/train-labels-idx1-ubyte.gz to dataset/MNIST/raw/train-labels-idx1-ubyte.gz\n"
          ],
          "name": "stdout"
        },
        {
          "output_type": "display_data",
          "data": {
            "application/vnd.jupyter.widget-view+json": {
              "model_id": "5724c75b72ee4e1ea272166e7e7ccdd3",
              "version_minor": 0,
              "version_major": 2
            },
            "text/plain": [
              "HBox(children=(FloatProgress(value=1.0, bar_style='info', max=1.0), HTML(value='')))"
            ]
          },
          "metadata": {
            "tags": []
          }
        },
        {
          "output_type": "stream",
          "text": [
            "Extracting dataset/MNIST/raw/train-labels-idx1-ubyte.gz to dataset/MNIST/raw\n",
            "Downloading http://yann.lecun.com/exdb/mnist/t10k-images-idx3-ubyte.gz to dataset/MNIST/raw/t10k-images-idx3-ubyte.gz\n",
            "\n"
          ],
          "name": "stdout"
        },
        {
          "output_type": "display_data",
          "data": {
            "application/vnd.jupyter.widget-view+json": {
              "model_id": "44b0dd3b8dfe4014a070976040033004",
              "version_minor": 0,
              "version_major": 2
            },
            "text/plain": [
              "HBox(children=(FloatProgress(value=1.0, bar_style='info', max=1.0), HTML(value='')))"
            ]
          },
          "metadata": {
            "tags": []
          }
        },
        {
          "output_type": "stream",
          "text": [
            "Extracting dataset/MNIST/raw/t10k-images-idx3-ubyte.gz to dataset/MNIST/raw\n",
            "Downloading http://yann.lecun.com/exdb/mnist/t10k-labels-idx1-ubyte.gz to dataset/MNIST/raw/t10k-labels-idx1-ubyte.gz\n"
          ],
          "name": "stdout"
        },
        {
          "output_type": "display_data",
          "data": {
            "application/vnd.jupyter.widget-view+json": {
              "model_id": "e9eb93636edf47e9add5d85ab454b691",
              "version_minor": 0,
              "version_major": 2
            },
            "text/plain": [
              "HBox(children=(FloatProgress(value=1.0, bar_style='info', max=1.0), HTML(value='')))"
            ]
          },
          "metadata": {
            "tags": []
          }
        },
        {
          "output_type": "stream",
          "text": [
            "Extracting dataset/MNIST/raw/t10k-labels-idx1-ubyte.gz to dataset/MNIST/raw\n",
            "Processing...\n",
            "Done!\n"
          ],
          "name": "stdout"
        },
        {
          "output_type": "stream",
          "text": [
            "/usr/local/lib/python3.6/dist-packages/torchvision/datasets/mnist.py:480: UserWarning: The given NumPy array is not writeable, and PyTorch does not support non-writeable tensors. This means you can write to the underlying (supposedly non-writeable) NumPy array using the tensor. You may want to copy the array to protect its data or make it writeable before converting it to a tensor. This type of warning will be suppressed for the rest of this program. (Triggered internally at  /pytorch/torch/csrc/utils/tensor_numpy.cpp:141.)\n",
            "  return torch.from_numpy(parsed.astype(m[2], copy=False)).view(*s)\n"
          ],
          "name": "stderr"
        }
      ]
    },
    {
      "cell_type": "code",
      "metadata": {
        "id": "ZTqzkD0G4UGq"
      },
      "source": [
        "test_loader= torch.utils.data.DataLoader(\n",
        "    datasets.MNIST('dataset', train=False,\n",
        "                   transform=transforms.Compose([\n",
        "                                                 transforms.ToTensor(),\n",
        "                                                 transforms.Normalize((0.5,),(0.5))\n",
        "                   ])),\n",
        "    batch_size=test_batch_size,\n",
        "    shuffle=True\n",
        ")"
      ],
      "execution_count": 8,
      "outputs": []
    },
    {
      "cell_type": "code",
      "metadata": {
        "id": "N_qGb-rC5o__"
      },
      "source": [
        "images, labels = next(iter(train_loader))"
      ],
      "execution_count": 9,
      "outputs": []
    },
    {
      "cell_type": "markdown",
      "metadata": {
        "id": "eLQsrRKP5wBr"
      },
      "source": [
        "##pytorch와 tensor의 shape 순서의 의미가 다르다##\n",
        "###[batch_size, channel, height, witdh]=Pytorch [batch_size, height, width, channel]= Tensorflow###"
      ]
    },
    {
      "cell_type": "code",
      "metadata": {
        "id": "bOnQhoIW5ssh",
        "colab": {
          "base_uri": "https://localhost:8080/"
        },
        "outputId": "5184063f-e819-4855-c0c4-31f60d76f3fb"
      },
      "source": [
        "images.shape"
      ],
      "execution_count": 10,
      "outputs": [
        {
          "output_type": "execute_result",
          "data": {
            "text/plain": [
              "torch.Size([1, 1, 28, 28])"
            ]
          },
          "metadata": {
            "tags": []
          },
          "execution_count": 10
        }
      ]
    },
    {
      "cell_type": "code",
      "metadata": {
        "id": "_9HOs7zy6E8a",
        "colab": {
          "base_uri": "https://localhost:8080/"
        },
        "outputId": "de35b45f-b4d2-43fc-8596-7712d0be3c9b"
      },
      "source": [
        "labels.shape"
      ],
      "execution_count": 11,
      "outputs": [
        {
          "output_type": "execute_result",
          "data": {
            "text/plain": [
              "torch.Size([1])"
            ]
          },
          "metadata": {
            "tags": []
          },
          "execution_count": 11
        }
      ]
    },
    {
      "cell_type": "code",
      "metadata": {
        "id": "Li4kEbfc6Uj5",
        "colab": {
          "base_uri": "https://localhost:8080/"
        },
        "outputId": "71ff2310-0f9e-4990-c37c-74fa9560f027"
      },
      "source": [
        "images[0].shape"
      ],
      "execution_count": 12,
      "outputs": [
        {
          "output_type": "execute_result",
          "data": {
            "text/plain": [
              "torch.Size([1, 28, 28])"
            ]
          },
          "metadata": {
            "tags": []
          },
          "execution_count": 12
        }
      ]
    },
    {
      "cell_type": "code",
      "metadata": {
        "id": "V_PDA5P26Het",
        "colab": {
          "base_uri": "https://localhost:8080/"
        },
        "outputId": "5729754f-1a05-4e8e-a23b-369858a16d80"
      },
      "source": [
        "torch_image=torch.squeeze(images[0])\n",
        "torch_image.shape"
      ],
      "execution_count": 13,
      "outputs": [
        {
          "output_type": "execute_result",
          "data": {
            "text/plain": [
              "torch.Size([28, 28])"
            ]
          },
          "metadata": {
            "tags": []
          },
          "execution_count": 13
        }
      ]
    },
    {
      "cell_type": "code",
      "metadata": {
        "id": "Y9b6nkyc6YT0",
        "colab": {
          "base_uri": "https://localhost:8080/"
        },
        "outputId": "ec3efbd6-fac1-4f8e-d424-22c3c705947d"
      },
      "source": [
        "image=torch_image.numpy()\n",
        "image.shape"
      ],
      "execution_count": 14,
      "outputs": [
        {
          "output_type": "execute_result",
          "data": {
            "text/plain": [
              "(28, 28)"
            ]
          },
          "metadata": {
            "tags": []
          },
          "execution_count": 14
        }
      ]
    },
    {
      "cell_type": "code",
      "metadata": {
        "id": "aMF0cka36m6w"
      },
      "source": [
        "label=labels[0].numpy()"
      ],
      "execution_count": 15,
      "outputs": []
    },
    {
      "cell_type": "code",
      "metadata": {
        "id": "4Z83AdQl6p7Z",
        "colab": {
          "base_uri": "https://localhost:8080/"
        },
        "outputId": "cdaae196-0506-4cfe-bb64-772d542b3a97"
      },
      "source": [
        "label.shape"
      ],
      "execution_count": 16,
      "outputs": [
        {
          "output_type": "execute_result",
          "data": {
            "text/plain": [
              "()"
            ]
          },
          "metadata": {
            "tags": []
          },
          "execution_count": 16
        }
      ]
    },
    {
      "cell_type": "code",
      "metadata": {
        "id": "b3OGNhEI6s3p",
        "colab": {
          "base_uri": "https://localhost:8080/"
        },
        "outputId": "56546ff1-43b6-4c34-9deb-8f0e3a4d25b5"
      },
      "source": [
        "label"
      ],
      "execution_count": 17,
      "outputs": [
        {
          "output_type": "execute_result",
          "data": {
            "text/plain": [
              "array(9)"
            ]
          },
          "metadata": {
            "tags": []
          },
          "execution_count": 17
        }
      ]
    },
    {
      "cell_type": "code",
      "metadata": {
        "id": "TlFUaQzC6t-g",
        "colab": {
          "base_uri": "https://localhost:8080/",
          "height": 334
        },
        "outputId": "0b17af43-a808-4044-ed9e-1374b1787ae1"
      },
      "source": [
        "plt.title(label)\n",
        "plt.imshow(image,'gray')\n",
        "plt.show()"
      ],
      "execution_count": 18,
      "outputs": [
        {
          "output_type": "stream",
          "text": [
            "\n"
          ],
          "name": "stdout"
        },
        {
          "output_type": "display_data",
          "data": {
            "image/png": "[encoded data removed]",
            "text/plain": [
              "<Figure size 432x288 with 1 Axes>"
            ]
          },
          "metadata": {
            "tags": [],
            "needs_background": "light"
          }
        },
        {
          "output_type": "stream",
          "text": [
            "\n",
            "\n"
          ],
          "name": "stdout"
        }
      ]
    },
    {
      "cell_type": "code",
      "metadata": {
        "id": "hsnjPSR992MT"
      },
      "source": [
        "import torch.nn as nn # weight가 있는 내용 \n",
        "import torch.nn.functional as F #pooling, activation function 같이 weight가 없는 것이 담겨있음\n",
        "import torch.optim as optim"
      ],
      "execution_count": 19,
      "outputs": []
    },
    {
      "cell_type": "markdown",
      "metadata": {
        "id": "2sP9y4eE9_ld"
      },
      "source": [
        "##Layer Convolution##\n",
        "###in_channels: 전달 받을 channel 수###\n",
        "###out_channels: 전달 할 channel 수###\n",
        "###kernel_size: kernel, weight의 사이즈###\n"
      ]
    },
    {
      "cell_type": "code",
      "metadata": {
        "id": "Q9jf_Oso-GxI",
        "colab": {
          "base_uri": "https://localhost:8080/"
        },
        "outputId": "e28e0e36-6ab8-4437-a1ad-1df5e4d6fe34"
      },
      "source": [
        "nn.Conv2d(in_channels=1, out_channels=20, kernel_size=5, stride=1)"
      ],
      "execution_count": 20,
      "outputs": [
        {
          "output_type": "execute_result",
          "data": {
            "text/plain": [
              "Conv2d(1, 20, kernel_size=(5, 5), stride=(1, 1))"
            ]
          },
          "metadata": {
            "tags": []
          },
          "execution_count": 20
        }
      ]
    },
    {
      "cell_type": "code",
      "metadata": {
        "id": "WTIJrAzq-bCZ",
        "colab": {
          "base_uri": "https://localhost:8080/"
        },
        "outputId": "53c90fd1-d8e8-4234-fe89-b865a0a0d404"
      },
      "source": [
        "layer=nn.Conv2d(1,20,5,1).to(torch.device('cpu'))\n",
        "layer"
      ],
      "execution_count": 21,
      "outputs": [
        {
          "output_type": "execute_result",
          "data": {
            "text/plain": [
              "Conv2d(1, 20, kernel_size=(5, 5), stride=(1, 1))"
            ]
          },
          "metadata": {
            "tags": []
          },
          "execution_count": 21
        }
      ]
    },
    {
      "cell_type": "code",
      "metadata": {
        "id": "X7hcKkHP-jkV",
        "colab": {
          "base_uri": "https://localhost:8080/"
        },
        "outputId": "61ffffef-b356-48a8-d0a9-ebf432485028"
      },
      "source": [
        "weight= layer.weight\n",
        "weight.shape "
      ],
      "execution_count": 22,
      "outputs": [
        {
          "output_type": "execute_result",
          "data": {
            "text/plain": [
              "torch.Size([20, 1, 5, 5])"
            ]
          },
          "metadata": {
            "tags": []
          },
          "execution_count": 22
        }
      ]
    },
    {
      "cell_type": "code",
      "metadata": {
        "id": "wWOoJhTb-v45"
      },
      "source": [
        "weight=weight.detach().numpy()\n",
        "#weight는 학습 가능한 상태이기 때문에 바로 numpy로 뽑아지지 않아서 detach_method를 사용하여 그래프에서 잠깐 제거하여 gradient 영향을 받지 않게\n"
      ],
      "execution_count": 23,
      "outputs": []
    },
    {
      "cell_type": "code",
      "metadata": {
        "id": "O1dORDFA_JWH",
        "colab": {
          "base_uri": "https://localhost:8080/"
        },
        "outputId": "6274c9ba-b0ed-4017-e77e-54b1b34024b4"
      },
      "source": [
        "weight"
      ],
      "execution_count": 24,
      "outputs": [
        {
          "output_type": "execute_result",
          "data": {
            "text/plain": [
              "array([[[[-0.08065927,  0.1732686 , -0.05019116, -0.06926129,\n",
              "          -0.14361744],\n",
              "         [-0.17521004,  0.10293653,  0.09069438,  0.16586201,\n",
              "           0.09629693],\n",
              "         [ 0.14093883,  0.06530352, -0.00305333, -0.10463712,\n",
              "           0.10625043],\n",
              "         [ 0.02099929, -0.04935692, -0.18353689, -0.17435972,\n",
              "          -0.06948221],\n",
              "         [ 0.01602595, -0.0266058 ,  0.02958579,  0.01460428,\n",
              "          -0.17525943]]],\n",
              "\n",
              "\n",
              "       [[[-0.06454332,  0.13114421,  0.04184876,  0.16149504,\n",
              "           0.12582795],\n",
              "         [ 0.08886649, -0.1690567 , -0.17686175, -0.03681948,\n",
              "          -0.13579528],\n",
              "         [ 0.17351316, -0.07004573,  0.1561722 , -0.03478301,\n",
              "           0.02451527],\n",
              "         [ 0.09596767,  0.10924897,  0.03018513,  0.06622608,\n",
              "          -0.09140453],\n",
              "         [ 0.12137671,  0.1352442 ,  0.00484457, -0.16366939,\n",
              "           0.01435647]]],\n",
              "\n",
              "\n",
              "       [[[-0.03947482,  0.12688291,  0.02346304,  0.14598309,\n",
              "          -0.01708918],\n",
              "         [-0.13350704,  0.19916926, -0.1407984 ,  0.07239397,\n",
              "          -0.14952557],\n",
              "         [ 0.02811904,  0.19896851, -0.07377648, -0.10979255,\n",
              "          -0.15429507],\n",
              "         [ 0.12508753, -0.15219234, -0.11145413,  0.17012659,\n",
              "          -0.03767152],\n",
              "         [ 0.18434139,  0.1950103 ,  0.12853661,  0.08215656,\n",
              "           0.02555935]]],\n",
              "\n",
              "\n",
              "       [[[ 0.01284759,  0.04711699, -0.07755208,  0.06645527,\n",
              "          -0.19267483],\n",
              "         [ 0.10783734,  0.16637285, -0.1794198 , -0.09193399,\n",
              "           0.12710781],\n",
              "         [ 0.0968117 ,  0.14779301,  0.04661481, -0.06899519,\n",
              "           0.17547165],\n",
              "         [ 0.05938156, -0.03344321,  0.17925432,  0.03712172,\n",
              "           0.08264413],\n",
              "         [ 0.04549298, -0.00670145, -0.19253094, -0.17288661,\n",
              "           0.13572045]]],\n",
              "\n",
              "\n",
              "       [[[-0.13534193,  0.08754554, -0.06028991, -0.08729086,\n",
              "           0.15695475],\n",
              "         [-0.01451294, -0.13198292,  0.14308932, -0.13041921,\n",
              "          -0.13018036],\n",
              "         [-0.08815058, -0.11014292,  0.17655139, -0.13594876,\n",
              "           0.01298857],\n",
              "         [ 0.16994901,  0.09611671,  0.13886426, -0.04149449,\n",
              "           0.07372522],\n",
              "         [ 0.16190083, -0.16918229, -0.15853046,  0.1417338 ,\n",
              "           0.18036807]]],\n",
              "\n",
              "\n",
              "       [[[-0.19329219, -0.1509883 , -0.01309099, -0.07134705,\n",
              "           0.15043624],\n",
              "         [ 0.01831245, -0.00698085, -0.13065624,  0.00368674,\n",
              "          -0.08958149],\n",
              "         [-0.09277921, -0.16408086,  0.15866783,  0.09832747,\n",
              "           0.04622295],\n",
              "         [-0.00203877, -0.06438515,  0.03933957, -0.02339082,\n",
              "           0.19256587],\n",
              "         [ 0.03004139,  0.01273572, -0.19661985,  0.06317132,\n",
              "          -0.05330567]]],\n",
              "\n",
              "\n",
              "       [[[ 0.18930316,  0.13590221,  0.00332775, -0.03566582,\n",
              "           0.19996238],\n",
              "         [ 0.07782588,  0.13001077,  0.1964144 , -0.1994917 ,\n",
              "           0.04515956],\n",
              "         [-0.09786537, -0.02602704,  0.14633206,  0.15032928,\n",
              "           0.0441495 ],\n",
              "         [-0.1359781 ,  0.19868095, -0.03582993, -0.03269117,\n",
              "           0.08554258],\n",
              "         [-0.0912061 , -0.17368221,  0.09073825,  0.13485579,\n",
              "          -0.01267338]]],\n",
              "\n",
              "\n",
              "       [[[ 0.02519486,  0.00568144, -0.0733464 , -0.18021181,\n",
              "          -0.14041603],\n",
              "         [-0.0442163 , -0.13394022,  0.00549846, -0.12561782,\n",
              "           0.14855431],\n",
              "         [-0.04386904,  0.01487391, -0.14407443, -0.00987203,\n",
              "          -0.16181205],\n",
              "         [ 0.0885093 , -0.01226501, -0.00378036,  0.19667761,\n",
              "          -0.09508832],\n",
              "         [ 0.18490355,  0.02450426, -0.15800157, -0.1349436 ,\n",
              "          -0.09864221]]],\n",
              "\n",
              "\n",
              "       [[[-0.00423262, -0.06059423,  0.11857142, -0.19172311,\n",
              "           0.1769058 ],\n",
              "         [ 0.17069058,  0.19429962,  0.10625584, -0.09137505,\n",
              "           0.05484152],\n",
              "         [-0.1082897 ,  0.14623459,  0.13737123, -0.1271048 ,\n",
              "          -0.13681495],\n",
              "         [ 0.14452906, -0.05774915, -0.06458621, -0.19200747,\n",
              "           0.17863452],\n",
              "         [ 0.11639982, -0.0327107 , -0.05578933,  0.19877215,\n",
              "          -0.18144487]]],\n",
              "\n",
              "\n",
              "       [[[-0.06218884,  0.10818701,  0.00364656,  0.18028143,\n",
              "           0.03607736],\n",
              "         [-0.08759375, -0.17814283, -0.18916698, -0.10661354,\n",
              "           0.01718385],\n",
              "         [-0.09651516,  0.03242855,  0.13076074,  0.16667552,\n",
              "           0.08505197],\n",
              "         [ 0.19176987, -0.04315574, -0.04064636, -0.10581925,\n",
              "           0.00325603],\n",
              "         [-0.08783605,  0.00251658,  0.03269477, -0.05328758,\n",
              "           0.13891092]]],\n",
              "\n",
              "\n",
              "       [[[ 0.13563927,  0.1808851 ,  0.03105476, -0.08347304,\n",
              "          -0.04610758],\n",
              "         [ 0.11890912,  0.05302088,  0.05789926,  0.14619839,\n",
              "          -0.01620185],\n",
              "         [-0.117975  , -0.09706173, -0.08879786, -0.14395943,\n",
              "          -0.10777733],\n",
              "         [-0.05433295, -0.13477914,  0.07933702, -0.1915071 ,\n",
              "           0.135047  ],\n",
              "         [-0.16558304, -0.16530977, -0.12662998,  0.08829448,\n",
              "           0.17713957]]],\n",
              "\n",
              "\n",
              "       [[[ 0.08262251,  0.007002  , -0.04556685,  0.14740363,\n",
              "          -0.17035209],\n",
              "         [-0.15843964, -0.18974864, -0.04991443, -0.00809667,\n",
              "           0.05665746],\n",
              "         [-0.05045621,  0.17003119,  0.12482243,  0.14975655,\n",
              "          -0.11558025],\n",
              "         [-0.12577903, -0.17588638,  0.1568443 ,  0.02652307,\n",
              "           0.16418234],\n",
              "         [ 0.09061642,  0.04940114,  0.14974129, -0.01127512,\n",
              "           0.14497507]]],\n",
              "\n",
              "\n",
              "       [[[ 0.06387272, -0.09388907,  0.10254724,  0.00309625,\n",
              "           0.1747508 ],\n",
              "         [ 0.10550485, -0.12208455, -0.08334591,  0.1169334 ,\n",
              "          -0.05885239],\n",
              "         [ 0.07132524,  0.10742815, -0.10843148,  0.04042738,\n",
              "          -0.14043663],\n",
              "         [-0.07118767, -0.09982266, -0.13068871, -0.04516301,\n",
              "           0.14303528],\n",
              "         [-0.14938922, -0.08392274, -0.03187418, -0.14397569,\n",
              "          -0.02557123]]],\n",
              "\n",
              "\n",
              "       [[[-0.15478519,  0.16066244, -0.07265022,  0.13010886,\n",
              "           0.03208273],\n",
              "         [ 0.05806389, -0.19531511,  0.14196475, -0.0247185 ,\n",
              "           0.18191142],\n",
              "         [ 0.13895921, -0.11194589,  0.02118268,  0.07458597,\n",
              "          -0.17487498],\n",
              "         [ 0.07100101, -0.15655883,  0.19158123, -0.03574021,\n",
              "          -0.0546057 ],\n",
              "         [ 0.08720555,  0.14572473, -0.16880067, -0.14305356,\n",
              "           0.05913427]]],\n",
              "\n",
              "\n",
              "       [[[ 0.1785085 ,  0.00022681, -0.07121127,  0.03769598,\n",
              "          -0.12140296],\n",
              "         [-0.11612227, -0.12787984, -0.16400413, -0.10594974,\n",
              "          -0.036935  ],\n",
              "         [-0.11178448,  0.19730821,  0.08463259,  0.03300915,\n",
              "           0.1740917 ],\n",
              "         [-0.08609279,  0.1635123 ,  0.14631478,  0.19119631,\n",
              "          -0.01260204],\n",
              "         [-0.00426354, -0.16664365, -0.01349874,  0.18232512,\n",
              "          -0.05614007]]],\n",
              "\n",
              "\n",
              "       [[[-0.12989727, -0.0097765 , -0.16771857,  0.107867  ,\n",
              "           0.19072782],\n",
              "         [ 0.12385239, -0.04365866, -0.02069161, -0.02617006,\n",
              "          -0.15990737],\n",
              "         [-0.07559843,  0.13774939,  0.08128911,  0.163026  ,\n",
              "          -0.12878263],\n",
              "         [-0.04100642,  0.02541688,  0.02320693,  0.12691167,\n",
              "           0.0705014 ],\n",
              "         [ 0.18508069,  0.14278138,  0.08184941, -0.11809862,\n",
              "           0.15211332]]],\n",
              "\n",
              "\n",
              "       [[[ 0.12701511,  0.18728176, -0.09830561, -0.19407745,\n",
              "           0.02483401],\n",
              "         [-0.05738149,  0.05842454, -0.06187456, -0.05183155,\n",
              "           0.01927865],\n",
              "         [ 0.18302675,  0.04118488,  0.14199165, -0.09245296,\n",
              "           0.05971403],\n",
              "         [-0.12435835,  0.10317359,  0.19719715,  0.05171883,\n",
              "          -0.00472531],\n",
              "         [-0.08315688,  0.12169516,  0.09706815,  0.12586811,\n",
              "           0.02960906]]],\n",
              "\n",
              "\n",
              "       [[[-0.1935348 , -0.16258271, -0.19899867,  0.01639731,\n",
              "          -0.12251075],\n",
              "         [-0.03545399, -0.08910692,  0.17831698,  0.04751454,\n",
              "           0.19650237],\n",
              "         [ 0.10052047, -0.03294971, -0.03260362,  0.08092616,\n",
              "          -0.1750073 ],\n",
              "         [-0.13422592, -0.14137863,  0.05100565,  0.06848297,\n",
              "          -0.14045815],\n",
              "         [-0.16262987, -0.04903615, -0.06016731,  0.04820888,\n",
              "          -0.12725042]]],\n",
              "\n",
              "\n",
              "       [[[-0.12454798, -0.07686377, -0.1204474 , -0.00902159,\n",
              "           0.01609662],\n",
              "         [ 0.08374061, -0.16144021, -0.0588697 ,  0.09905739,\n",
              "           0.06705254],\n",
              "         [-0.15599547,  0.10348916,  0.12452364,  0.07362669,\n",
              "          -0.01416361],\n",
              "         [ 0.08574624, -0.09391084,  0.09909623, -0.01962428,\n",
              "          -0.19789596],\n",
              "         [ 0.07776346, -0.19167542,  0.02982695,  0.11770172,\n",
              "          -0.11229606]]],\n",
              "\n",
              "\n",
              "       [[[-0.13486536, -0.02789736, -0.06524148, -0.01051626,\n",
              "          -0.01068296],\n",
              "         [ 0.03129962,  0.08005114,  0.04620073, -0.01491444,\n",
              "          -0.07247598],\n",
              "         [-0.08251643, -0.08858345,  0.01835139, -0.00352964,\n",
              "          -0.08216124],\n",
              "         [-0.04985471, -0.18175936,  0.00654027, -0.14786907,\n",
              "          -0.11213019],\n",
              "         [-0.04603422, -0.02289233, -0.16651046,  0.18614247,\n",
              "          -0.18581152]]]], dtype=float32)"
            ]
          },
          "metadata": {
            "tags": []
          },
          "execution_count": 24
        }
      ]
    },
    {
      "cell_type": "code",
      "metadata": {
        "id": "SrgWx0t9_MQB",
        "colab": {
          "base_uri": "https://localhost:8080/",
          "height": 265
        },
        "outputId": "eca3406a-e474-4de1-b8f2-0b7d3121c8c2"
      },
      "source": [
        "plt.imshow(weight[0,0,:,:],'jet')\n",
        "plt.colorbar()\n",
        "plt.show()"
      ],
      "execution_count": 25,
      "outputs": [
        {
          "output_type": "display_data",
          "data": {
            "image/png": "[encoded data removed]",
            "text/plain": [
              "<Figure size 432x288 with 2 Axes>"
            ]
          },
          "metadata": {
            "tags": [],
            "needs_background": "light"
          }
        }
      ]
    },
    {
      "cell_type": "code",
      "metadata": {
        "id": "1UXTSC1l_X0C"
      },
      "source": [
        "output_data = layer(images)"
      ],
      "execution_count": 26,
      "outputs": []
    },
    {
      "cell_type": "code",
      "metadata": {
        "id": "fd9hCrJyGLDl"
      },
      "source": [
        "output_data =output_data.data"
      ],
      "execution_count": 27,
      "outputs": []
    },
    {
      "cell_type": "code",
      "metadata": {
        "id": "iHxwEQ8ZGvt-"
      },
      "source": [
        "output = output_data.cpu().numpy()"
      ],
      "execution_count": 28,
      "outputs": []
    },
    {
      "cell_type": "code",
      "metadata": {
        "colab": {
          "base_uri": "https://localhost:8080/"
        },
        "id": "0EEkHhTyGyuJ",
        "outputId": "cc333ae4-0a4e-49b9-db47-c523bdb23be1"
      },
      "source": [
        "output.shape"
      ],
      "execution_count": 29,
      "outputs": [
        {
          "output_type": "execute_result",
          "data": {
            "text/plain": [
              "(1, 20, 24, 24)"
            ]
          },
          "metadata": {
            "tags": []
          },
          "execution_count": 29
        }
      ]
    },
    {
      "cell_type": "code",
      "metadata": {
        "colab": {
          "base_uri": "https://localhost:8080/"
        },
        "id": "SPST9arhHjmO",
        "outputId": "1600c3a6-1c72-403b-c84a-da3e478e4e7f"
      },
      "source": [
        "image_arr = images.numpy()\n",
        "image_arr.shape"
      ],
      "execution_count": 30,
      "outputs": [
        {
          "output_type": "execute_result",
          "data": {
            "text/plain": [
              "(1, 1, 28, 28)"
            ]
          },
          "metadata": {
            "tags": []
          },
          "execution_count": 30
        }
      ]
    },
    {
      "cell_type": "code",
      "metadata": {
        "colab": {
          "base_uri": "https://localhost:8080/",
          "height": 309
        },
        "id": "45HnoD1uHqt5",
        "outputId": "27f95ba6-f528-4140-8a38-51a2981f5215"
      },
      "source": [
        "plt.figure(figsize=(15,30))\n",
        "plt.subplot(131)\n",
        "plt.title('Input')\n",
        "plt.imshow(np.squeeze(image_arr), 'gray')\n",
        "plt.subplot(132)\n",
        "plt.title('Weight')\n",
        "plt.imshow(weight[0,0,:,:], 'jet')\n",
        "plt.subplot(133)\n",
        "plt.title('Output')\n",
        "plt.imshow(output[0,0,:,:], 'gray')\n",
        "plt.show()"
      ],
      "execution_count": 31,
      "outputs": [
        {
          "output_type": "display_data",
          "data": {
            "image/png": "[encoded data removed]",
            "text/plain": [
              "<Figure size 1080x2160 with 3 Axes>"
            ]
          },
          "metadata": {
            "tags": [],
            "needs_background": "light"
          }
        }
      ]
    },
    {
      "cell_type": "code",
      "metadata": {
        "colab": {
          "base_uri": "https://localhost:8080/"
        },
        "id": "-HDMU9e1IZHf",
        "outputId": "de4cc031-e99d-4653-a23b-e39d465a5aec"
      },
      "source": [
        "images.shape"
      ],
      "execution_count": 32,
      "outputs": [
        {
          "output_type": "execute_result",
          "data": {
            "text/plain": [
              "torch.Size([1, 1, 28, 28])"
            ]
          },
          "metadata": {
            "tags": []
          },
          "execution_count": 32
        }
      ]
    },
    {
      "cell_type": "code",
      "metadata": {
        "colab": {
          "base_uri": "https://localhost:8080/"
        },
        "id": "nhLyKRYvIga-",
        "outputId": "a1d0e3f8-fc4b-427f-9cd0-d771aa81a693"
      },
      "source": [
        "pool = F.max_pool2d(images, 2, 2)\n",
        "pool.shape"
      ],
      "execution_count": 33,
      "outputs": [
        {
          "output_type": "execute_result",
          "data": {
            "text/plain": [
              "torch.Size([1, 1, 14, 14])"
            ]
          },
          "metadata": {
            "tags": []
          },
          "execution_count": 33
        }
      ]
    },
    {
      "cell_type": "code",
      "metadata": {
        "colab": {
          "base_uri": "https://localhost:8080/"
        },
        "id": "PvkO_MFiJNuJ",
        "outputId": "c7eca801-2935-4fcf-e8c9-a02281ccd44c"
      },
      "source": [
        "#MaxPool Layer는 Weight가 없기 떄문에 바로 numpy()가 가능\n",
        "pool_arr=pool.numpy()\n",
        "pool_arr.shape"
      ],
      "execution_count": 34,
      "outputs": [
        {
          "output_type": "execute_result",
          "data": {
            "text/plain": [
              "(1, 1, 14, 14)"
            ]
          },
          "metadata": {
            "tags": []
          },
          "execution_count": 34
        }
      ]
    },
    {
      "cell_type": "code",
      "metadata": {
        "colab": {
          "base_uri": "https://localhost:8080/"
        },
        "id": "a7r2vCbMIyCk",
        "outputId": "bcaa4153-5434-4f5a-d2a9-bef00a0e15a7"
      },
      "source": [
        "image_arr.shape"
      ],
      "execution_count": 35,
      "outputs": [
        {
          "output_type": "execute_result",
          "data": {
            "text/plain": [
              "(1, 1, 28, 28)"
            ]
          },
          "metadata": {
            "tags": []
          },
          "execution_count": 35
        }
      ]
    },
    {
      "cell_type": "code",
      "metadata": {
        "colab": {
          "base_uri": "https://localhost:8080/"
        },
        "id": "Z1I6g-PtI3ju",
        "outputId": "a17a4a19-1f8c-4e9d-82b1-05d7e706942b"
      },
      "source": [
        "image_arr.shape"
      ],
      "execution_count": 36,
      "outputs": [
        {
          "output_type": "execute_result",
          "data": {
            "text/plain": [
              "(1, 1, 28, 28)"
            ]
          },
          "metadata": {
            "tags": []
          },
          "execution_count": 36
        }
      ]
    },
    {
      "cell_type": "code",
      "metadata": {
        "colab": {
          "base_uri": "https://localhost:8080/",
          "height": 318
        },
        "id": "ouI9D2l3I5E_",
        "outputId": "10ce8c1a-e7e5-47bd-aa68-a3e46fbf9d4f"
      },
      "source": [
        "plt.figure(figsize=(10,15))\n",
        "plt.subplot(121)\n",
        "plt.title(\"Input\")\n",
        "plt.imshow(np.squeeze(image_arr),'gray')\n",
        "plt.subplot(122)\n",
        "plt.imshow(np.squeeze(pool_arr), 'gray')\n",
        "plt.show()"
      ],
      "execution_count": 37,
      "outputs": [
        {
          "output_type": "display_data",
          "data": {
            "image/png": "[encoded data removed]",
            "text/plain": [
              "<Figure size 720x1080 with 2 Axes>"
            ]
          },
          "metadata": {
            "tags": [],
            "needs_background": "light"
          }
        }
      ]
    },
    {
      "cell_type": "code",
      "metadata": {
        "colab": {
          "base_uri": "https://localhost:8080/"
        },
        "id": "FbLgdjeX04ki",
        "outputId": "337e495a-5f85-4374-8054-c5c81506adc3"
      },
      "source": [
        "flatten=images.view(1, 28*28)\n",
        "flatten.shape"
      ],
      "execution_count": 38,
      "outputs": [
        {
          "output_type": "execute_result",
          "data": {
            "text/plain": [
              "torch.Size([1, 784])"
            ]
          },
          "metadata": {
            "tags": []
          },
          "execution_count": 38
        }
      ]
    },
    {
      "cell_type": "code",
      "metadata": {
        "colab": {
          "base_uri": "https://localhost:8080/"
        },
        "id": "Pp6NaLbM1KKP",
        "outputId": "ed3f25a8-de13-423c-b535-4e4f5dfaf78b"
      },
      "source": [
        "lin = nn.Linear(784, 10)(flatten)\n",
        "lin.shape"
      ],
      "execution_count": 39,
      "outputs": [
        {
          "output_type": "execute_result",
          "data": {
            "text/plain": [
              "torch.Size([1, 10])"
            ]
          },
          "metadata": {
            "tags": []
          },
          "execution_count": 39
        }
      ]
    },
    {
      "cell_type": "code",
      "metadata": {
        "colab": {
          "base_uri": "https://localhost:8080/"
        },
        "id": "FO4hx_Mv1VjO",
        "outputId": "e96bd1ad-0da4-4945-fddf-c87255c665b3"
      },
      "source": [
        "lin"
      ],
      "execution_count": 40,
      "outputs": [
        {
          "output_type": "execute_result",
          "data": {
            "text/plain": [
              "tensor([[ 0.2591, -0.2010, -0.1502,  0.1914, -0.0757, -0.2041,  0.2765,  0.2577,\n",
              "         -0.2651, -0.1333]], grad_fn=<AddmmBackward>)"
            ]
          },
          "metadata": {
            "tags": []
          },
          "execution_count": 40
        }
      ]
    },
    {
      "cell_type": "code",
      "metadata": {
        "colab": {
          "base_uri": "https://localhost:8080/",
          "height": 85
        },
        "id": "don-fxMw1ZSL",
        "outputId": "d1d04e5b-a62f-4398-fdec-b9e33dcc90c4"
      },
      "source": [
        "plt.imshow(lin.detach().numpy(), 'jet')\n",
        "plt.show()"
      ],
      "execution_count": 41,
      "outputs": [
        {
          "output_type": "display_data",
          "data": {
            "image/png": "[encoded data removed]",
            "text/plain": [
              "<Figure size 432x288 with 1 Axes>"
            ]
          },
          "metadata": {
            "tags": [],
            "needs_background": "light"
          }
        }
      ]
    },
    {
      "cell_type": "code",
      "metadata": {
        "id": "rKc9W_6N1fNk"
      },
      "source": [
        "with torch.no_grad():\n",
        "  flatten = images.view(1,28*28)\n",
        "  lin = nn.Linear(784,10)(flatten)\n",
        "  softmax = F.softmax(lin, dim=1)"
      ],
      "execution_count": 42,
      "outputs": []
    },
    {
      "cell_type": "code",
      "metadata": {
        "colab": {
          "base_uri": "https://localhost:8080/"
        },
        "id": "WClwiTbM1soV",
        "outputId": "58422296-a378-4641-bfb8-07444f49246d"
      },
      "source": [
        "softmax"
      ],
      "execution_count": 43,
      "outputs": [
        {
          "output_type": "execute_result",
          "data": {
            "text/plain": [
              "tensor([[0.0964, 0.1078, 0.0919, 0.0922, 0.0756, 0.1257, 0.1043, 0.0915, 0.0923,\n",
              "         0.1223]])"
            ]
          },
          "metadata": {
            "tags": []
          },
          "execution_count": 43
        }
      ]
    },
    {
      "cell_type": "code",
      "metadata": {
        "colab": {
          "base_uri": "https://localhost:8080/"
        },
        "id": "cDFW6K9O1vGE",
        "outputId": "7b8166d3-cc88-423f-9bc3-d78ea75bca9c"
      },
      "source": [
        "np.sum(softmax.numpy())"
      ],
      "execution_count": 44,
      "outputs": [
        {
          "output_type": "execute_result",
          "data": {
            "text/plain": [
              "0.99999994"
            ]
          },
          "metadata": {
            "tags": []
          },
          "execution_count": 44
        }
      ]
    },
    {
      "cell_type": "markdown",
      "metadata": {
        "id": "kPvEMtRvYjMq"
      },
      "source": [
        "##Layer##"
      ]
    },
    {
      "cell_type": "code",
      "metadata": {
        "id": "_Ltf88vaUcjC"
      },
      "source": [
        "class Net(nn.Module):\n",
        "  def __init__(self):\n",
        "    super(Net, self).__init__()\n",
        "    self.conv1=nn.Conv2d(1,20,5,1)\n",
        "    self.conv2=nn.Conv2d(20,50,5,1)\n",
        "    self.fc1=nn.Linear(4*4*50,500)\n",
        "    self.fc2=nn.Linear(500, 10)\n",
        "\n",
        "  def forward(self, x):\n",
        "    x = F.relu(self.conv1(x))\n",
        "    x = F.max_pool2d(x,2,2)\n",
        "    x = F.relu(self.conv2(x))\n",
        "    x = F.max_pool2d(x,2,2,)\n",
        "    \n",
        "    print(x.shape)\n",
        "    x=x.view(-1,4*4*50)\n",
        "    x=F.relu(self.fc1(x))\n",
        "    x=self.fc2(x)\n",
        "    return F.log_softmax(x, dim=1)"
      ],
      "execution_count": 51,
      "outputs": []
    },
    {
      "cell_type": "code",
      "metadata": {
        "id": "pD98JLMuVVww"
      },
      "source": [
        "model = Net()"
      ],
      "execution_count": 49,
      "outputs": []
    },
    {
      "cell_type": "code",
      "metadata": {
        "colab": {
          "base_uri": "https://localhost:8080/"
        },
        "id": "g5RCdcCaVZDH",
        "outputId": "e85159d8-00cd-46bc-e5bb-c46f6326efc3"
      },
      "source": [
        "result = model.forward(images)"
      ],
      "execution_count": 50,
      "outputs": [
        {
          "output_type": "stream",
          "text": [
            "torch.Size([1, 50, 4, 4])\n"
          ],
          "name": "stdout"
        }
      ]
    },
    {
      "cell_type": "code",
      "metadata": {
        "id": "mlZqmRDUVdvm"
      },
      "source": [
        "result"
      ],
      "execution_count": 52,
      "outputs": []
    },
    {
      "cell_type": "code",
      "metadata": {
        "colab": {
          "base_uri": "https://localhost:8080/"
        },
        "id": "YcIYdnHscz_t",
        "outputId": "5b61fd43-c714-4396-ac1e-9109352b735c"
      },
      "source": [
        "model.conv1"
      ],
      "execution_count": 63,
      "outputs": [
        {
          "output_type": "execute_result",
          "data": {
            "text/plain": [
              "Conv2d(1, 20, kernel_size=(5, 5), stride=(1, 1))"
            ]
          },
          "metadata": {
            "tags": []
          },
          "execution_count": 63
        }
      ]
    },
    {
      "cell_type": "markdown",
      "metadata": {
        "id": "SEbnZ_vRYmZ4"
      },
      "source": [
        "##Optimization##"
      ]
    },
    {
      "cell_type": "code",
      "metadata": {
        "id": "SW9rK5PxY13D"
      },
      "source": [
        "device = torch.device('cuda' if torch.cuda.is_available() else 'cpu')"
      ],
      "execution_count": 54,
      "outputs": []
    },
    {
      "cell_type": "code",
      "metadata": {
        "id": "T0PrNJF8VoYc"
      },
      "source": [
        "  model = Net().to(device)"
      ],
      "execution_count": 55,
      "outputs": []
    },
    {
      "cell_type": "code",
      "metadata": {
        "id": "7PPbvWAIY4xj"
      },
      "source": [
        "optimizer = optim.SGD(model.parameters(), lr=0.001, momentum =0.5)"
      ],
      "execution_count": 56,
      "outputs": []
    },
    {
      "cell_type": "code",
      "metadata": {
        "colab": {
          "base_uri": "https://localhost:8080/"
        },
        "id": "7yZwd8uhZF-2",
        "outputId": "02597900-d8f2-4ead-dac3-e7296bf9e750"
      },
      "source": [
        "params = list(model.parameters())\n",
        "for i in range(8):\n",
        "  print(params[i].size())\n",
        "  #Weight, Bias 순서대로 보여줌"
      ],
      "execution_count": 57,
      "outputs": [
        {
          "output_type": "stream",
          "text": [
            "torch.Size([20, 1, 5, 5])\n",
            "torch.Size([20])\n",
            "torch.Size([50, 20, 5, 5])\n",
            "torch.Size([50])\n",
            "torch.Size([500, 800])\n",
            "torch.Size([500])\n",
            "torch.Size([10, 500])\n",
            "torch.Size([10])\n"
          ],
          "name": "stdout"
        }
      ]
    },
    {
      "cell_type": "markdown",
      "metadata": {
        "id": "H-LeK1ejZCnd"
      },
      "source": [
        ""
      ]
    }
  ]
}