{
  "nbformat": 4,
  "nbformat_minor": 0,
  "metadata": {
    "colab": {
      "name": "torch_mnist",
      "provenance": [],
      "authorship_tag": "ABX9TyOA2Xp4i1WTvCbnoB8elDCS",
      "include_colab_link": true
    },
    "kernelspec": {
      "name": "python3",
      "display_name": "Python 3"
    },
    "widgets": {
      "application/vnd.jupyter.widget-state+json": {
        "c327576178c444f8a27ef9025b6f3617": {
          "model_module": "@jupyter-widgets/controls",
          "model_name": "HBoxModel",
          "state": {
            "_view_name": "HBoxView",
            "_dom_classes": [],
            "_model_name": "HBoxModel",
            "_view_module": "@jupyter-widgets/controls",
            "_model_module_version": "1.5.0",
            "_view_count": null,
            "_view_module_version": "1.5.0",
            "box_style": "",
            "layout": "IPY_MODEL_fc42f0b99fa14b4a9ef9470affb636cf",
            "_model_module": "@jupyter-widgets/controls",
            "children": [
              "IPY_MODEL_5e35701d3121474b99c730f1476b1bb9",
              "IPY_MODEL_eff3282a7de6439a9f7d0978484d49a8"
            ]
          }
        },
        "fc42f0b99fa14b4a9ef9470affb636cf": {
          "model_module": "@jupyter-widgets/base",
          "model_name": "LayoutModel",
          "state": {
            "_view_name": "LayoutView",
            "grid_template_rows": null,
            "right": null,
            "justify_content": null,
            "_view_module": "@jupyter-widgets/base",
            "overflow": null,
            "_model_module_version": "1.2.0",
            "_view_count": null,
            "flex_flow": null,
            "width": null,
            "min_width": null,
            "border": null,
            "align_items": null,
            "bottom": null,
            "_model_module": "@jupyter-widgets/base",
            "top": null,
            "grid_column": null,
            "overflow_y": null,
            "overflow_x": null,
            "grid_auto_flow": null,
            "grid_area": null,
            "grid_template_columns": null,
            "flex": null,
            "_model_name": "LayoutModel",
            "justify_items": null,
            "grid_row": null,
            "max_height": null,
            "align_content": null,
            "visibility": null,
            "align_self": null,
            "height": null,
            "min_height": null,
            "padding": null,
            "grid_auto_rows": null,
            "grid_gap": null,
            "max_width": null,
            "order": null,
            "_view_module_version": "1.2.0",
            "grid_template_areas": null,
            "object_position": null,
            "object_fit": null,
            "grid_auto_columns": null,
            "margin": null,
            "display": null,
            "left": null
          }
        },
        "5e35701d3121474b99c730f1476b1bb9": {
          "model_module": "@jupyter-widgets/controls",
          "model_name": "FloatProgressModel",
          "state": {
            "_view_name": "ProgressView",
            "style": "IPY_MODEL_1b51d567936c44749ed1b9b77f926197",
            "_dom_classes": [],
            "description": "",
            "_model_name": "FloatProgressModel",
            "bar_style": "info",
            "max": 1,
            "_view_module": "@jupyter-widgets/controls",
            "_model_module_version": "1.5.0",
            "value": 1,
            "_view_count": null,
            "_view_module_version": "1.5.0",
            "orientation": "horizontal",
            "min": 0,
            "description_tooltip": null,
            "_model_module": "@jupyter-widgets/controls",
            "layout": "IPY_MODEL_c21e52d000e84c938e9a587473b3e2c7"
          }
        },
        "eff3282a7de6439a9f7d0978484d49a8": {
          "model_module": "@jupyter-widgets/controls",
          "model_name": "HTMLModel",
          "state": {
            "_view_name": "HTMLView",
            "style": "IPY_MODEL_d255a268b0ac4bd4a85b009d9c470c3e",
            "_dom_classes": [],
            "description": "",
            "_model_name": "HTMLModel",
            "placeholder": "​",
            "_view_module": "@jupyter-widgets/controls",
            "_model_module_version": "1.5.0",
            "value": " 9920512/? [00:20&lt;00:00, 777567.14it/s]",
            "_view_count": null,
            "_view_module_version": "1.5.0",
            "description_tooltip": null,
            "_model_module": "@jupyter-widgets/controls",
            "layout": "IPY_MODEL_b1070750f1254a0b8aacabf4439db44e"
          }
        },
        "1b51d567936c44749ed1b9b77f926197": {
          "model_module": "@jupyter-widgets/controls",
          "model_name": "ProgressStyleModel",
          "state": {
            "_view_name": "StyleView",
            "_model_name": "ProgressStyleModel",
            "description_width": "initial",
            "_view_module": "@jupyter-widgets/base",
            "_model_module_version": "1.5.0",
            "_view_count": null,
            "_view_module_version": "1.2.0",
            "bar_color": null,
            "_model_module": "@jupyter-widgets/controls"
          }
        },
        "c21e52d000e84c938e9a587473b3e2c7": {
          "model_module": "@jupyter-widgets/base",
          "model_name": "LayoutModel",
          "state": {
            "_view_name": "LayoutView",
            "grid_template_rows": null,
            "right": null,
            "justify_content": null,
            "_view_module": "@jupyter-widgets/base",
            "overflow": null,
            "_model_module_version": "1.2.0",
            "_view_count": null,
            "flex_flow": null,
            "width": null,
            "min_width": null,
            "border": null,
            "align_items": null,
            "bottom": null,
            "_model_module": "@jupyter-widgets/base",
            "top": null,
            "grid_column": null,
            "overflow_y": null,
            "overflow_x": null,
            "grid_auto_flow": null,
            "grid_area": null,
            "grid_template_columns": null,
            "flex": null,
            "_model_name": "LayoutModel",
            "justify_items": null,
            "grid_row": null,
            "max_height": null,
            "align_content": null,
            "visibility": null,
            "align_self": null,
            "height": null,
            "min_height": null,
            "padding": null,
            "grid_auto_rows": null,
            "grid_gap": null,
            "max_width": null,
            "order": null,
            "_view_module_version": "1.2.0",
            "grid_template_areas": null,
            "object_position": null,
            "object_fit": null,
            "grid_auto_columns": null,
            "margin": null,
            "display": null,
            "left": null
          }
        },
        "d255a268b0ac4bd4a85b009d9c470c3e": {
          "model_module": "@jupyter-widgets/controls",
          "model_name": "DescriptionStyleModel",
          "state": {
            "_view_name": "StyleView",
            "_model_name": "DescriptionStyleModel",
            "description_width": "",
            "_view_module": "@jupyter-widgets/base",
            "_model_module_version": "1.5.0",
            "_view_count": null,
            "_view_module_version": "1.2.0",
            "_model_module": "@jupyter-widgets/controls"
          }
        },
        "b1070750f1254a0b8aacabf4439db44e": {
          "model_module": "@jupyter-widgets/base",
          "model_name": "LayoutModel",
          "state": {
            "_view_name": "LayoutView",
            "grid_template_rows": null,
            "right": null,
            "justify_content": null,
            "_view_module": "@jupyter-widgets/base",
            "overflow": null,
            "_model_module_version": "1.2.0",
            "_view_count": null,
            "flex_flow": null,
            "width": null,
            "min_width": null,
            "border": null,
            "align_items": null,
            "bottom": null,
            "_model_module": "@jupyter-widgets/base",
            "top": null,
            "grid_column": null,
            "overflow_y": null,
            "overflow_x": null,
            "grid_auto_flow": null,
            "grid_area": null,
            "grid_template_columns": null,
            "flex": null,
            "_model_name": "LayoutModel",
            "justify_items": null,
            "grid_row": null,
            "max_height": null,
            "align_content": null,
            "visibility": null,
            "align_self": null,
            "height": null,
            "min_height": null,
            "padding": null,
            "grid_auto_rows": null,
            "grid_gap": null,
            "max_width": null,
            "order": null,
            "_view_module_version": "1.2.0",
            "grid_template_areas": null,
            "object_position": null,
            "object_fit": null,
            "grid_auto_columns": null,
            "margin": null,
            "display": null,
            "left": null
          }
        },
        "429ac9ad6f1249fa9d552a8615547309": {
          "model_module": "@jupyter-widgets/controls",
          "model_name": "HBoxModel",
          "state": {
            "_view_name": "HBoxView",
            "_dom_classes": [],
            "_model_name": "HBoxModel",
            "_view_module": "@jupyter-widgets/controls",
            "_model_module_version": "1.5.0",
            "_view_count": null,
            "_view_module_version": "1.5.0",
            "box_style": "",
            "layout": "IPY_MODEL_73e9a30ae6fc4c34b92df302faa874d6",
            "_model_module": "@jupyter-widgets/controls",
            "children": [
              "IPY_MODEL_1aba03007170429caf51da3969352ab6",
              "IPY_MODEL_140e09d8817040ca8e1b57fe3e36cc05"
            ]
          }
        },
        "73e9a30ae6fc4c34b92df302faa874d6": {
          "model_module": "@jupyter-widgets/base",
          "model_name": "LayoutModel",
          "state": {
            "_view_name": "LayoutView",
            "grid_template_rows": null,
            "right": null,
            "justify_content": null,
            "_view_module": "@jupyter-widgets/base",
            "overflow": null,
            "_model_module_version": "1.2.0",
            "_view_count": null,
            "flex_flow": null,
            "width": null,
            "min_width": null,
            "border": null,
            "align_items": null,
            "bottom": null,
            "_model_module": "@jupyter-widgets/base",
            "top": null,
            "grid_column": null,
            "overflow_y": null,
            "overflow_x": null,
            "grid_auto_flow": null,
            "grid_area": null,
            "grid_template_columns": null,
            "flex": null,
            "_model_name": "LayoutModel",
            "justify_items": null,
            "grid_row": null,
            "max_height": null,
            "align_content": null,
            "visibility": null,
            "align_self": null,
            "height": null,
            "min_height": null,
            "padding": null,
            "grid_auto_rows": null,
            "grid_gap": null,
            "max_width": null,
            "order": null,
            "_view_module_version": "1.2.0",
            "grid_template_areas": null,
            "object_position": null,
            "object_fit": null,
            "grid_auto_columns": null,
            "margin": null,
            "display": null,
            "left": null
          }
        },
        "1aba03007170429caf51da3969352ab6": {
          "model_module": "@jupyter-widgets/controls",
          "model_name": "FloatProgressModel",
          "state": {
            "_view_name": "ProgressView",
            "style": "IPY_MODEL_0292065f5a89472d816b43d4d74d6a22",
            "_dom_classes": [],
            "description": "",
            "_model_name": "FloatProgressModel",
            "bar_style": "success",
            "max": 1,
            "_view_module": "@jupyter-widgets/controls",
            "_model_module_version": "1.5.0",
            "value": 1,
            "_view_count": null,
            "_view_module_version": "1.5.0",
            "orientation": "horizontal",
            "min": 0,
            "description_tooltip": null,
            "_model_module": "@jupyter-widgets/controls",
            "layout": "IPY_MODEL_86e5a67506124846b1413a9abb7ad9a7"
          }
        },
        "140e09d8817040ca8e1b57fe3e36cc05": {
          "model_module": "@jupyter-widgets/controls",
          "model_name": "HTMLModel",
          "state": {
            "_view_name": "HTMLView",
            "style": "IPY_MODEL_a56d1f5e103940f8b52704505bfca02e",
            "_dom_classes": [],
            "description": "",
            "_model_name": "HTMLModel",
            "placeholder": "​",
            "_view_module": "@jupyter-widgets/controls",
            "_model_module_version": "1.5.0",
            "value": " 32768/? [00:01&lt;00:00, 30992.32it/s]",
            "_view_count": null,
            "_view_module_version": "1.5.0",
            "description_tooltip": null,
            "_model_module": "@jupyter-widgets/controls",
            "layout": "IPY_MODEL_a4dfad4d05c241b8a8db080e4470afae"
          }
        },
        "0292065f5a89472d816b43d4d74d6a22": {
          "model_module": "@jupyter-widgets/controls",
          "model_name": "ProgressStyleModel",
          "state": {
            "_view_name": "StyleView",
            "_model_name": "ProgressStyleModel",
            "description_width": "initial",
            "_view_module": "@jupyter-widgets/base",
            "_model_module_version": "1.5.0",
            "_view_count": null,
            "_view_module_version": "1.2.0",
            "bar_color": null,
            "_model_module": "@jupyter-widgets/controls"
          }
        },
        "86e5a67506124846b1413a9abb7ad9a7": {
          "model_module": "@jupyter-widgets/base",
          "model_name": "LayoutModel",
          "state": {
            "_view_name": "LayoutView",
            "grid_template_rows": null,
            "right": null,
            "justify_content": null,
            "_view_module": "@jupyter-widgets/base",
            "overflow": null,
            "_model_module_version": "1.2.0",
            "_view_count": null,
            "flex_flow": null,
            "width": null,
            "min_width": null,
            "border": null,
            "align_items": null,
            "bottom": null,
            "_model_module": "@jupyter-widgets/base",
            "top": null,
            "grid_column": null,
            "overflow_y": null,
            "overflow_x": null,
            "grid_auto_flow": null,
            "grid_area": null,
            "grid_template_columns": null,
            "flex": null,
            "_model_name": "LayoutModel",
            "justify_items": null,
            "grid_row": null,
            "max_height": null,
            "align_content": null,
            "visibility": null,
            "align_self": null,
            "height": null,
            "min_height": null,
            "padding": null,
            "grid_auto_rows": null,
            "grid_gap": null,
            "max_width": null,
            "order": null,
            "_view_module_version": "1.2.0",
            "grid_template_areas": null,
            "object_position": null,
            "object_fit": null,
            "grid_auto_columns": null,
            "margin": null,
            "display": null,
            "left": null
          }
        },
        "a56d1f5e103940f8b52704505bfca02e": {
          "model_module": "@jupyter-widgets/controls",
          "model_name": "DescriptionStyleModel",
          "state": {
            "_view_name": "StyleView",
            "_model_name": "DescriptionStyleModel",
            "description_width": "",
            "_view_module": "@jupyter-widgets/base",
            "_model_module_version": "1.5.0",
            "_view_count": null,
            "_view_module_version": "1.2.0",
            "_model_module": "@jupyter-widgets/controls"
          }
        },
        "a4dfad4d05c241b8a8db080e4470afae": {
          "model_module": "@jupyter-widgets/base",
          "model_name": "LayoutModel",
          "state": {
            "_view_name": "LayoutView",
            "grid_template_rows": null,
            "right": null,
            "justify_content": null,
            "_view_module": "@jupyter-widgets/base",
            "overflow": null,
            "_model_module_version": "1.2.0",
            "_view_count": null,
            "flex_flow": null,
            "width": null,
            "min_width": null,
            "border": null,
            "align_items": null,
            "bottom": null,
            "_model_module": "@jupyter-widgets/base",
            "top": null,
            "grid_column": null,
            "overflow_y": null,
            "overflow_x": null,
            "grid_auto_flow": null,
            "grid_area": null,
            "grid_template_columns": null,
            "flex": null,
            "_model_name": "LayoutModel",
            "justify_items": null,
            "grid_row": null,
            "max_height": null,
            "align_content": null,
            "visibility": null,
            "align_self": null,
            "height": null,
            "min_height": null,
            "padding": null,
            "grid_auto_rows": null,
            "grid_gap": null,
            "max_width": null,
            "order": null,
            "_view_module_version": "1.2.0",
            "grid_template_areas": null,
            "object_position": null,
            "object_fit": null,
            "grid_auto_columns": null,
            "margin": null,
            "display": null,
            "left": null
          }
        },
        "3a06603bd76c4a2e9da926782ce6d6c2": {
          "model_module": "@jupyter-widgets/controls",
          "model_name": "HBoxModel",
          "state": {
            "_view_name": "HBoxView",
            "_dom_classes": [],
            "_model_name": "HBoxModel",
            "_view_module": "@jupyter-widgets/controls",
            "_model_module_version": "1.5.0",
            "_view_count": null,
            "_view_module_version": "1.5.0",
            "box_style": "",
            "layout": "IPY_MODEL_9518b8a9ca994597ae3df566918044fb",
            "_model_module": "@jupyter-widgets/controls",
            "children": [
              "IPY_MODEL_37173c76321c48d59406cd9fd97417cd",
              "IPY_MODEL_76421fb65249404f8cdb695d33f4e35b"
            ]
          }
        },
        "9518b8a9ca994597ae3df566918044fb": {
          "model_module": "@jupyter-widgets/base",
          "model_name": "LayoutModel",
          "state": {
            "_view_name": "LayoutView",
            "grid_template_rows": null,
            "right": null,
            "justify_content": null,
            "_view_module": "@jupyter-widgets/base",
            "overflow": null,
            "_model_module_version": "1.2.0",
            "_view_count": null,
            "flex_flow": null,
            "width": null,
            "min_width": null,
            "border": null,
            "align_items": null,
            "bottom": null,
            "_model_module": "@jupyter-widgets/base",
            "top": null,
            "grid_column": null,
            "overflow_y": null,
            "overflow_x": null,
            "grid_auto_flow": null,
            "grid_area": null,
            "grid_template_columns": null,
            "flex": null,
            "_model_name": "LayoutModel",
            "justify_items": null,
            "grid_row": null,
            "max_height": null,
            "align_content": null,
            "visibility": null,
            "align_self": null,
            "height": null,
            "min_height": null,
            "padding": null,
            "grid_auto_rows": null,
            "grid_gap": null,
            "max_width": null,
            "order": null,
            "_view_module_version": "1.2.0",
            "grid_template_areas": null,
            "object_position": null,
            "object_fit": null,
            "grid_auto_columns": null,
            "margin": null,
            "display": null,
            "left": null
          }
        },
        "37173c76321c48d59406cd9fd97417cd": {
          "model_module": "@jupyter-widgets/controls",
          "model_name": "FloatProgressModel",
          "state": {
            "_view_name": "ProgressView",
            "style": "IPY_MODEL_3338f5b3be754a7995e365b33ccda8c7",
            "_dom_classes": [],
            "description": "",
            "_model_name": "FloatProgressModel",
            "bar_style": "success",
            "max": 1,
            "_view_module": "@jupyter-widgets/controls",
            "_model_module_version": "1.5.0",
            "value": 1,
            "_view_count": null,
            "_view_module_version": "1.5.0",
            "orientation": "horizontal",
            "min": 0,
            "description_tooltip": null,
            "_model_module": "@jupyter-widgets/controls",
            "layout": "IPY_MODEL_0a6fb625f6144c82b4d48076ca53be16"
          }
        },
        "76421fb65249404f8cdb695d33f4e35b": {
          "model_module": "@jupyter-widgets/controls",
          "model_name": "HTMLModel",
          "state": {
            "_view_name": "HTMLView",
            "style": "IPY_MODEL_76881916918b45519dccf69ef0a7c3e7",
            "_dom_classes": [],
            "description": "",
            "_model_name": "HTMLModel",
            "placeholder": "​",
            "_view_module": "@jupyter-widgets/controls",
            "_model_module_version": "1.5.0",
            "value": " 1654784/? [00:00&lt;00:00, 2155725.03it/s]",
            "_view_count": null,
            "_view_module_version": "1.5.0",
            "description_tooltip": null,
            "_model_module": "@jupyter-widgets/controls",
            "layout": "IPY_MODEL_85ddf7313d0841c9a23177961ba5450b"
          }
        },
        "3338f5b3be754a7995e365b33ccda8c7": {
          "model_module": "@jupyter-widgets/controls",
          "model_name": "ProgressStyleModel",
          "state": {
            "_view_name": "StyleView",
            "_model_name": "ProgressStyleModel",
            "description_width": "initial",
            "_view_module": "@jupyter-widgets/base",
            "_model_module_version": "1.5.0",
            "_view_count": null,
            "_view_module_version": "1.2.0",
            "bar_color": null,
            "_model_module": "@jupyter-widgets/controls"
          }
        },
        "0a6fb625f6144c82b4d48076ca53be16": {
          "model_module": "@jupyter-widgets/base",
          "model_name": "LayoutModel",
          "state": {
            "_view_name": "LayoutView",
            "grid_template_rows": null,
            "right": null,
            "justify_content": null,
            "_view_module": "@jupyter-widgets/base",
            "overflow": null,
            "_model_module_version": "1.2.0",
            "_view_count": null,
            "flex_flow": null,
            "width": null,
            "min_width": null,
            "border": null,
            "align_items": null,
            "bottom": null,
            "_model_module": "@jupyter-widgets/base",
            "top": null,
            "grid_column": null,
            "overflow_y": null,
            "overflow_x": null,
            "grid_auto_flow": null,
            "grid_area": null,
            "grid_template_columns": null,
            "flex": null,
            "_model_name": "LayoutModel",
            "justify_items": null,
            "grid_row": null,
            "max_height": null,
            "align_content": null,
            "visibility": null,
            "align_self": null,
            "height": null,
            "min_height": null,
            "padding": null,
            "grid_auto_rows": null,
            "grid_gap": null,
            "max_width": null,
            "order": null,
            "_view_module_version": "1.2.0",
            "grid_template_areas": null,
            "object_position": null,
            "object_fit": null,
            "grid_auto_columns": null,
            "margin": null,
            "display": null,
            "left": null
          }
        },
        "76881916918b45519dccf69ef0a7c3e7": {
          "model_module": "@jupyter-widgets/controls",
          "model_name": "DescriptionStyleModel",
          "state": {
            "_view_name": "StyleView",
            "_model_name": "DescriptionStyleModel",
            "description_width": "",
            "_view_module": "@jupyter-widgets/base",
            "_model_module_version": "1.5.0",
            "_view_count": null,
            "_view_module_version": "1.2.0",
            "_model_module": "@jupyter-widgets/controls"
          }
        },
        "85ddf7313d0841c9a23177961ba5450b": {
          "model_module": "@jupyter-widgets/base",
          "model_name": "LayoutModel",
          "state": {
            "_view_name": "LayoutView",
            "grid_template_rows": null,
            "right": null,
            "justify_content": null,
            "_view_module": "@jupyter-widgets/base",
            "overflow": null,
            "_model_module_version": "1.2.0",
            "_view_count": null,
            "flex_flow": null,
            "width": null,
            "min_width": null,
            "border": null,
            "align_items": null,
            "bottom": null,
            "_model_module": "@jupyter-widgets/base",
            "top": null,
            "grid_column": null,
            "overflow_y": null,
            "overflow_x": null,
            "grid_auto_flow": null,
            "grid_area": null,
            "grid_template_columns": null,
            "flex": null,
            "_model_name": "LayoutModel",
            "justify_items": null,
            "grid_row": null,
            "max_height": null,
            "align_content": null,
            "visibility": null,
            "align_self": null,
            "height": null,
            "min_height": null,
            "padding": null,
            "grid_auto_rows": null,
            "grid_gap": null,
            "max_width": null,
            "order": null,
            "_view_module_version": "1.2.0",
            "grid_template_areas": null,
            "object_position": null,
            "object_fit": null,
            "grid_auto_columns": null,
            "margin": null,
            "display": null,
            "left": null
          }
        },
        "6490da2cf5f44e69bb97f4b7a24d78de": {
          "model_module": "@jupyter-widgets/controls",
          "model_name": "HBoxModel",
          "state": {
            "_view_name": "HBoxView",
            "_dom_classes": [],
            "_model_name": "HBoxModel",
            "_view_module": "@jupyter-widgets/controls",
            "_model_module_version": "1.5.0",
            "_view_count": null,
            "_view_module_version": "1.5.0",
            "box_style": "",
            "layout": "IPY_MODEL_c92d9503ee234428a626677101faf389",
            "_model_module": "@jupyter-widgets/controls",
            "children": [
              "IPY_MODEL_08ea1529643a488a8858a792840b254a",
              "IPY_MODEL_fb86580145634394a0fd2e2f4d17319d"
            ]
          }
        },
        "c92d9503ee234428a626677101faf389": {
          "model_module": "@jupyter-widgets/base",
          "model_name": "LayoutModel",
          "state": {
            "_view_name": "LayoutView",
            "grid_template_rows": null,
            "right": null,
            "justify_content": null,
            "_view_module": "@jupyter-widgets/base",
            "overflow": null,
            "_model_module_version": "1.2.0",
            "_view_count": null,
            "flex_flow": null,
            "width": null,
            "min_width": null,
            "border": null,
            "align_items": null,
            "bottom": null,
            "_model_module": "@jupyter-widgets/base",
            "top": null,
            "grid_column": null,
            "overflow_y": null,
            "overflow_x": null,
            "grid_auto_flow": null,
            "grid_area": null,
            "grid_template_columns": null,
            "flex": null,
            "_model_name": "LayoutModel",
            "justify_items": null,
            "grid_row": null,
            "max_height": null,
            "align_content": null,
            "visibility": null,
            "align_self": null,
            "height": null,
            "min_height": null,
            "padding": null,
            "grid_auto_rows": null,
            "grid_gap": null,
            "max_width": null,
            "order": null,
            "_view_module_version": "1.2.0",
            "grid_template_areas": null,
            "object_position": null,
            "object_fit": null,
            "grid_auto_columns": null,
            "margin": null,
            "display": null,
            "left": null
          }
        },
        "08ea1529643a488a8858a792840b254a": {
          "model_module": "@jupyter-widgets/controls",
          "model_name": "FloatProgressModel",
          "state": {
            "_view_name": "ProgressView",
            "style": "IPY_MODEL_15d4f35a67a0467b8d927389af25c104",
            "_dom_classes": [],
            "description": "  0%",
            "_model_name": "FloatProgressModel",
            "bar_style": "info",
            "max": 1,
            "_view_module": "@jupyter-widgets/controls",
            "_model_module_version": "1.5.0",
            "value": 0,
            "_view_count": null,
            "_view_module_version": "1.5.0",
            "orientation": "horizontal",
            "min": 0,
            "description_tooltip": null,
            "_model_module": "@jupyter-widgets/controls",
            "layout": "IPY_MODEL_98303a324e774234af7a1272bad56536"
          }
        },
        "fb86580145634394a0fd2e2f4d17319d": {
          "model_module": "@jupyter-widgets/controls",
          "model_name": "HTMLModel",
          "state": {
            "_view_name": "HTMLView",
            "style": "IPY_MODEL_d6b173d9c99549488911c3adcb90d55b",
            "_dom_classes": [],
            "description": "",
            "_model_name": "HTMLModel",
            "placeholder": "​",
            "_view_module": "@jupyter-widgets/controls",
            "_model_module_version": "1.5.0",
            "value": " 0/4542 [00:00&lt;?, ?it/s]",
            "_view_count": null,
            "_view_module_version": "1.5.0",
            "description_tooltip": null,
            "_model_module": "@jupyter-widgets/controls",
            "layout": "IPY_MODEL_8af1cac554a644539d315e470e97cc2f"
          }
        },
        "15d4f35a67a0467b8d927389af25c104": {
          "model_module": "@jupyter-widgets/controls",
          "model_name": "ProgressStyleModel",
          "state": {
            "_view_name": "StyleView",
            "_model_name": "ProgressStyleModel",
            "description_width": "initial",
            "_view_module": "@jupyter-widgets/base",
            "_model_module_version": "1.5.0",
            "_view_count": null,
            "_view_module_version": "1.2.0",
            "bar_color": null,
            "_model_module": "@jupyter-widgets/controls"
          }
        },
        "98303a324e774234af7a1272bad56536": {
          "model_module": "@jupyter-widgets/base",
          "model_name": "LayoutModel",
          "state": {
            "_view_name": "LayoutView",
            "grid_template_rows": null,
            "right": null,
            "justify_content": null,
            "_view_module": "@jupyter-widgets/base",
            "overflow": null,
            "_model_module_version": "1.2.0",
            "_view_count": null,
            "flex_flow": null,
            "width": null,
            "min_width": null,
            "border": null,
            "align_items": null,
            "bottom": null,
            "_model_module": "@jupyter-widgets/base",
            "top": null,
            "grid_column": null,
            "overflow_y": null,
            "overflow_x": null,
            "grid_auto_flow": null,
            "grid_area": null,
            "grid_template_columns": null,
            "flex": null,
            "_model_name": "LayoutModel",
            "justify_items": null,
            "grid_row": null,
            "max_height": null,
            "align_content": null,
            "visibility": null,
            "align_self": null,
            "height": null,
            "min_height": null,
            "padding": null,
            "grid_auto_rows": null,
            "grid_gap": null,
            "max_width": null,
            "order": null,
            "_view_module_version": "1.2.0",
            "grid_template_areas": null,
            "object_position": null,
            "object_fit": null,
            "grid_auto_columns": null,
            "margin": null,
            "display": null,
            "left": null
          }
        },
        "d6b173d9c99549488911c3adcb90d55b": {
          "model_module": "@jupyter-widgets/controls",
          "model_name": "DescriptionStyleModel",
          "state": {
            "_view_name": "StyleView",
            "_model_name": "DescriptionStyleModel",
            "description_width": "",
            "_view_module": "@jupyter-widgets/base",
            "_model_module_version": "1.5.0",
            "_view_count": null,
            "_view_module_version": "1.2.0",
            "_model_module": "@jupyter-widgets/controls"
          }
        },
        "8af1cac554a644539d315e470e97cc2f": {
          "model_module": "@jupyter-widgets/base",
          "model_name": "LayoutModel",
          "state": {
            "_view_name": "LayoutView",
            "grid_template_rows": null,
            "right": null,
            "justify_content": null,
            "_view_module": "@jupyter-widgets/base",
            "overflow": null,
            "_model_module_version": "1.2.0",
            "_view_count": null,
            "flex_flow": null,
            "width": null,
            "min_width": null,
            "border": null,
            "align_items": null,
            "bottom": null,
            "_model_module": "@jupyter-widgets/base",
            "top": null,
            "grid_column": null,
            "overflow_y": null,
            "overflow_x": null,
            "grid_auto_flow": null,
            "grid_area": null,
            "grid_template_columns": null,
            "flex": null,
            "_model_name": "LayoutModel",
            "justify_items": null,
            "grid_row": null,
            "max_height": null,
            "align_content": null,
            "visibility": null,
            "align_self": null,
            "height": null,
            "min_height": null,
            "padding": null,
            "grid_auto_rows": null,
            "grid_gap": null,
            "max_width": null,
            "order": null,
            "_view_module_version": "1.2.0",
            "grid_template_areas": null,
            "object_position": null,
            "object_fit": null,
            "grid_auto_columns": null,
            "margin": null,
            "display": null,
            "left": null
          }
        }
      }
    }
  },
  "cells": [
    {
      "cell_type": "markdown",
      "metadata": {
        "id": "view-in-github",
        "colab_type": "text"
      },
      "source": [
        "<a href=\"https://colab.research.google.com/github/mathrhino/pytorch/blob/main/torch_mnist.ipynb\" target=\"_parent\"><img src=\"https://colab.research.google.com/assets/colab-badge.svg\" alt=\"Open In Colab\"/></a>"
      ]
    },
    {
      "cell_type": "code",
      "metadata": {
        "id": "Zg26dDsw2pGb"
      },
      "source": [
        "import torch \n",
        "from torchvision import datasets, transforms\n",
        "from torchvision.utils import save_image\n",
        "import numpy as np\n",
        "import matplotlib.pyplot as plt\n",
        "\n",
        "%matplotlib inline"
      ],
      "execution_count": 21,
      "outputs": []
    },
    {
      "cell_type": "code",
      "metadata": {
        "id": "0-3VmUi72xeR"
      },
      "source": [
        "batch_size=32\n",
        "test_batch_size=32"
      ],
      "execution_count": 2,
      "outputs": []
    },
    {
      "cell_type": "code",
      "metadata": {
        "id": "MImcyUeT21To",
        "outputId": "56536e6e-33b3-402b-ec01-f08d002c3355",
        "colab": {
          "base_uri": "https://localhost:8080/",
          "height": 417,
          "referenced_widgets": [
            "c327576178c444f8a27ef9025b6f3617",
            "fc42f0b99fa14b4a9ef9470affb636cf",
            "5e35701d3121474b99c730f1476b1bb9",
            "eff3282a7de6439a9f7d0978484d49a8",
            "1b51d567936c44749ed1b9b77f926197",
            "c21e52d000e84c938e9a587473b3e2c7",
            "d255a268b0ac4bd4a85b009d9c470c3e",
            "b1070750f1254a0b8aacabf4439db44e",
            "429ac9ad6f1249fa9d552a8615547309",
            "73e9a30ae6fc4c34b92df302faa874d6",
            "1aba03007170429caf51da3969352ab6",
            "140e09d8817040ca8e1b57fe3e36cc05",
            "0292065f5a89472d816b43d4d74d6a22",
            "86e5a67506124846b1413a9abb7ad9a7",
            "a56d1f5e103940f8b52704505bfca02e",
            "a4dfad4d05c241b8a8db080e4470afae",
            "3a06603bd76c4a2e9da926782ce6d6c2",
            "9518b8a9ca994597ae3df566918044fb",
            "37173c76321c48d59406cd9fd97417cd",
            "76421fb65249404f8cdb695d33f4e35b",
            "3338f5b3be754a7995e365b33ccda8c7",
            "0a6fb625f6144c82b4d48076ca53be16",
            "76881916918b45519dccf69ef0a7c3e7",
            "85ddf7313d0841c9a23177961ba5450b",
            "6490da2cf5f44e69bb97f4b7a24d78de",
            "c92d9503ee234428a626677101faf389",
            "08ea1529643a488a8858a792840b254a",
            "fb86580145634394a0fd2e2f4d17319d",
            "15d4f35a67a0467b8d927389af25c104",
            "98303a324e774234af7a1272bad56536",
            "d6b173d9c99549488911c3adcb90d55b",
            "8af1cac554a644539d315e470e97cc2f"
          ]
        }
      },
      "source": [
        "train_loader = torch.utils.data.DataLoader(\n",
        "    datasets.MNIST('dataset/', train=True, download=True,\n",
        "                   transform=transforms.Compose([\n",
        "                                                  transforms.ToTensor(),\n",
        "                                                  transforms.Normalize(mean=(0.5),std=(0.5))\n",
        "                   ])),\n",
        "                   batch_size=batch_size,\n",
        "                   shuffle=True\n",
        ")"
      ],
      "execution_count": 11,
      "outputs": [
        {
          "output_type": "stream",
          "text": [
            "Downloading http://yann.lecun.com/exdb/mnist/train-images-idx3-ubyte.gz to dataset/MNIST/raw/train-images-idx3-ubyte.gz\n"
          ],
          "name": "stdout"
        },
        {
          "output_type": "display_data",
          "data": {
            "application/vnd.jupyter.widget-view+json": {
              "model_id": "c327576178c444f8a27ef9025b6f3617",
              "version_minor": 0,
              "version_major": 2
            },
            "text/plain": [
              "HBox(children=(FloatProgress(value=1.0, bar_style='info', max=1.0), HTML(value='')))"
            ]
          },
          "metadata": {
            "tags": []
          }
        },
        {
          "output_type": "stream",
          "text": [
            "Extracting dataset/MNIST/raw/train-images-idx3-ubyte.gz to dataset/MNIST/raw\n",
            "Downloading http://yann.lecun.com/exdb/mnist/train-labels-idx1-ubyte.gz to dataset/MNIST/raw/train-labels-idx1-ubyte.gz\n"
          ],
          "name": "stdout"
        },
        {
          "output_type": "display_data",
          "data": {
            "application/vnd.jupyter.widget-view+json": {
              "model_id": "429ac9ad6f1249fa9d552a8615547309",
              "version_minor": 0,
              "version_major": 2
            },
            "text/plain": [
              "HBox(children=(FloatProgress(value=1.0, bar_style='info', max=1.0), HTML(value='')))"
            ]
          },
          "metadata": {
            "tags": []
          }
        },
        {
          "output_type": "stream",
          "text": [
            "Extracting dataset/MNIST/raw/train-labels-idx1-ubyte.gz to dataset/MNIST/raw\n",
            "Downloading http://yann.lecun.com/exdb/mnist/t10k-images-idx3-ubyte.gz to dataset/MNIST/raw/t10k-images-idx3-ubyte.gz\n"
          ],
          "name": "stdout"
        },
        {
          "output_type": "display_data",
          "data": {
            "application/vnd.jupyter.widget-view+json": {
              "model_id": "3a06603bd76c4a2e9da926782ce6d6c2",
              "version_minor": 0,
              "version_major": 2
            },
            "text/plain": [
              "HBox(children=(FloatProgress(value=1.0, bar_style='info', max=1.0), HTML(value='')))"
            ]
          },
          "metadata": {
            "tags": []
          }
        },
        {
          "output_type": "stream",
          "text": [
            "Extracting dataset/MNIST/raw/t10k-images-idx3-ubyte.gz to dataset/MNIST/raw\n",
            "Downloading http://yann.lecun.com/exdb/mnist/t10k-labels-idx1-ubyte.gz to dataset/MNIST/raw/t10k-labels-idx1-ubyte.gz\n",
            "\n",
            "\n"
          ],
          "name": "stdout"
        },
        {
          "output_type": "display_data",
          "data": {
            "application/vnd.jupyter.widget-view+json": {
              "model_id": "6490da2cf5f44e69bb97f4b7a24d78de",
              "version_minor": 0,
              "version_major": 2
            },
            "text/plain": [
              "HBox(children=(FloatProgress(value=1.0, bar_style='info', max=1.0), HTML(value='')))"
            ]
          },
          "metadata": {
            "tags": []
          }
        },
        {
          "output_type": "stream",
          "text": [
            "Extracting dataset/MNIST/raw/t10k-labels-idx1-ubyte.gz to dataset/MNIST/raw\n",
            "Processing...\n",
            "Done!\n"
          ],
          "name": "stdout"
        },
        {
          "output_type": "stream",
          "text": [
            "/usr/local/lib/python3.6/dist-packages/torchvision/datasets/mnist.py:480: UserWarning: The given NumPy array is not writeable, and PyTorch does not support non-writeable tensors. This means you can write to the underlying (supposedly non-writeable) NumPy array using the tensor. You may want to copy the array to protect its data or make it writeable before converting it to a tensor. This type of warning will be suppressed for the rest of this program. (Triggered internally at  /pytorch/torch/csrc/utils/tensor_numpy.cpp:141.)\n",
            "  return torch.from_numpy(parsed.astype(m[2], copy=False)).view(*s)\n"
          ],
          "name": "stderr"
        }
      ]
    },
    {
      "cell_type": "code",
      "metadata": {
        "id": "ZTqzkD0G4UGq"
      },
      "source": [
        "test_loader= torch.utils.data.DataLoader(\n",
        "    datasets.MNIST('dataset', train=False,\n",
        "                   transform=transforms.Compose([\n",
        "                                                 transforms.ToTensor(),\n",
        "                                                 transforms.Normalize((0.5,),(0.5))\n",
        "                   ])),\n",
        "    batch_size=test_batch_size,\n",
        "    shuffle=True\n",
        ")"
      ],
      "execution_count": 52,
      "outputs": []
    },
    {
      "cell_type": "code",
      "metadata": {
        "id": "N_qGb-rC5o__"
      },
      "source": [
        "images, labels = next(iter(train_loader))"
      ],
      "execution_count": 53,
      "outputs": []
    },
    {
      "cell_type": "markdown",
      "metadata": {
        "id": "eLQsrRKP5wBr"
      },
      "source": [
        "##pytorch와 tensor의 shape 순서의 의미가 다르다##\n",
        "###[batch_size, channel, height, witdh]=Pytorch [batch_size, height, width, channel]= Tensorflow###"
      ]
    },
    {
      "cell_type": "code",
      "metadata": {
        "id": "bOnQhoIW5ssh",
        "outputId": "546bdc58-3197-4d71-9644-f08cdb8449d2",
        "colab": {
          "base_uri": "https://localhost:8080/"
        }
      },
      "source": [
        "images.shape"
      ],
      "execution_count": 19,
      "outputs": [
        {
          "output_type": "execute_result",
          "data": {
            "text/plain": [
              "torch.Size([32, 1, 28, 28])"
            ]
          },
          "metadata": {
            "tags": []
          },
          "execution_count": 19
        }
      ]
    },
    {
      "cell_type": "code",
      "metadata": {
        "id": "_9HOs7zy6E8a",
        "outputId": "ab7c9c3f-6cbf-46f0-a951-a2caf5043b0f",
        "colab": {
          "base_uri": "https://localhost:8080/"
        }
      },
      "source": [
        "labels.shape"
      ],
      "execution_count": 20,
      "outputs": [
        {
          "output_type": "execute_result",
          "data": {
            "text/plain": [
              "torch.Size([32])"
            ]
          },
          "metadata": {
            "tags": []
          },
          "execution_count": 20
        }
      ]
    },
    {
      "cell_type": "code",
      "metadata": {
        "id": "Li4kEbfc6Uj5",
        "outputId": "93260a48-e449-42c7-8e08-a633d65cfaa0",
        "colab": {
          "base_uri": "https://localhost:8080/"
        }
      },
      "source": [
        "images[0].shape"
      ],
      "execution_count": 23,
      "outputs": [
        {
          "output_type": "execute_result",
          "data": {
            "text/plain": [
              "torch.Size([1, 28, 28])"
            ]
          },
          "metadata": {
            "tags": []
          },
          "execution_count": 23
        }
      ]
    },
    {
      "cell_type": "code",
      "metadata": {
        "id": "V_PDA5P26Het",
        "outputId": "53612cb9-6390-4959-9ca6-9d4e020bdd66",
        "colab": {
          "base_uri": "https://localhost:8080/"
        }
      },
      "source": [
        "torch_image=torch.squeeze(images[0])\n",
        "torch_image.shape"
      ],
      "execution_count": 26,
      "outputs": [
        {
          "output_type": "execute_result",
          "data": {
            "text/plain": [
              "torch.Size([28, 28])"
            ]
          },
          "metadata": {
            "tags": []
          },
          "execution_count": 26
        }
      ]
    },
    {
      "cell_type": "code",
      "metadata": {
        "id": "Y9b6nkyc6YT0",
        "outputId": "d74da2b2-5530-4eb8-b8e0-d6bbda6daf88",
        "colab": {
          "base_uri": "https://localhost:8080/"
        }
      },
      "source": [
        "image=torch_image.numpy()\n",
        "image.shape"
      ],
      "execution_count": 27,
      "outputs": [
        {
          "output_type": "execute_result",
          "data": {
            "text/plain": [
              "(28, 28)"
            ]
          },
          "metadata": {
            "tags": []
          },
          "execution_count": 27
        }
      ]
    },
    {
      "cell_type": "code",
      "metadata": {
        "id": "aMF0cka36m6w"
      },
      "source": [
        "label=labels[0].numpy()"
      ],
      "execution_count": 28,
      "outputs": []
    },
    {
      "cell_type": "code",
      "metadata": {
        "id": "4Z83AdQl6p7Z",
        "outputId": "6298f76c-a5b8-499b-e784-08ea68c24af5",
        "colab": {
          "base_uri": "https://localhost:8080/"
        }
      },
      "source": [
        "label.shape"
      ],
      "execution_count": 29,
      "outputs": [
        {
          "output_type": "execute_result",
          "data": {
            "text/plain": [
              "()"
            ]
          },
          "metadata": {
            "tags": []
          },
          "execution_count": 29
        }
      ]
    },
    {
      "cell_type": "code",
      "metadata": {
        "id": "b3OGNhEI6s3p",
        "outputId": "c8f06e96-aa1c-4f3c-df6b-007a2739b9ae",
        "colab": {
          "base_uri": "https://localhost:8080/"
        }
      },
      "source": [
        "label"
      ],
      "execution_count": 30,
      "outputs": [
        {
          "output_type": "execute_result",
          "data": {
            "text/plain": [
              "array(4)"
            ]
          },
          "metadata": {
            "tags": []
          },
          "execution_count": 30
        }
      ]
    },
    {
      "cell_type": "code",
      "metadata": {
        "id": "TlFUaQzC6t-g",
        "outputId": "29d377a0-40c2-4d8a-c0ac-db5a46894e93",
        "colab": {
          "base_uri": "https://localhost:8080/",
          "height": 280
        }
      },
      "source": [
        "plt.title(label)\n",
        "plt.imshow(image,'gray')\n",
        "plt.show()"
      ],
      "execution_count": 31,
      "outputs": [
        {
          "output_type": "display_data",
          "data": {
            "image/png": "[encoded data removed]",
            "text/plain": [
              "<Figure size 432x288 with 1 Axes>"
            ]
          },
          "metadata": {
            "tags": [],
            "needs_background": "light"
          }
        }
      ]
    },
    {
      "cell_type": "code",
      "metadata": {
        "id": "hsnjPSR992MT"
      },
      "source": [
        "import torch.nn as nn\n",
        "import torch.nn.functional as F \n",
        "import torch.optim as optim"
      ],
      "execution_count": 32,
      "outputs": []
    },
    {
      "cell_type": "markdown",
      "metadata": {
        "id": "2sP9y4eE9_ld"
      },
      "source": [
        "##Layer Convolution##\n",
        "###in_channels: 전달 받을 channel 수###\n",
        "###out_channels: 전달 할 channel 수###\n",
        "###kernel_size: kernel, weight의 사이즈###\n"
      ]
    },
    {
      "cell_type": "code",
      "metadata": {
        "id": "Q9jf_Oso-GxI",
        "outputId": "38e5da02-2019-46ce-ae12-99629fc14113",
        "colab": {
          "base_uri": "https://localhost:8080/"
        }
      },
      "source": [
        "nn.Conv2d(in_channels=1, out_channels=20, kernel_size=5, stride=1)"
      ],
      "execution_count": 33,
      "outputs": [
        {
          "output_type": "execute_result",
          "data": {
            "text/plain": [
              "Conv2d(1, 20, kernel_size=(5, 5), stride=(1, 1))"
            ]
          },
          "metadata": {
            "tags": []
          },
          "execution_count": 33
        }
      ]
    },
    {
      "cell_type": "code",
      "metadata": {
        "id": "WTIJrAzq-bCZ",
        "outputId": "9bf3e629-06fb-4433-fde5-c597dc765149",
        "colab": {
          "base_uri": "https://localhost:8080/"
        }
      },
      "source": [
        "layer=nn.Conv2d(1,20,5,1).to(torch.device('cpu'))\n",
        "layer"
      ],
      "execution_count": 34,
      "outputs": [
        {
          "output_type": "execute_result",
          "data": {
            "text/plain": [
              "Conv2d(1, 20, kernel_size=(5, 5), stride=(1, 1))"
            ]
          },
          "metadata": {
            "tags": []
          },
          "execution_count": 34
        }
      ]
    },
    {
      "cell_type": "code",
      "metadata": {
        "id": "X7hcKkHP-jkV",
        "outputId": "114f5977-d5bb-4356-bfa7-538bb681389c",
        "colab": {
          "base_uri": "https://localhost:8080/"
        }
      },
      "source": [
        "weight= layer.weight\n",
        "weight.shape "
      ],
      "execution_count": 40,
      "outputs": [
        {
          "output_type": "execute_result",
          "data": {
            "text/plain": [
              "torch.Size([20, 1, 5, 5])"
            ]
          },
          "metadata": {
            "tags": []
          },
          "execution_count": 40
        }
      ]
    },
    {
      "cell_type": "code",
      "metadata": {
        "id": "wWOoJhTb-v45"
      },
      "source": [
        "weight=weight.detach().numpy()\n",
        "#weight는 학습 가능한 상태이기 때문에 바로 numpy로 뽑아지지 않아서 detach_method를 사용하여 그래프에서 잠깐 제거하여 gradient 영향을 받지 않게\n"
      ],
      "execution_count": 41,
      "outputs": []
    },
    {
      "cell_type": "code",
      "metadata": {
        "id": "O1dORDFA_JWH",
        "outputId": "2ad719ac-45b9-4b06-a0d0-30f98295d2ae",
        "colab": {
          "base_uri": "https://localhost:8080/"
        }
      },
      "source": [
        "weight"
      ],
      "execution_count": 42,
      "outputs": [
        {
          "output_type": "execute_result",
          "data": {
            "text/plain": [
              "array([[[[-0.11038437, -0.07611406,  0.16337772, -0.09818027,\n",
              "           0.04355965],\n",
              "         [ 0.00744591,  0.17024426, -0.1167345 , -0.18389943,\n",
              "          -0.16877384],\n",
              "         [ 0.04650993,  0.08451682,  0.0629906 ,  0.14564784,\n",
              "          -0.12686646],\n",
              "         [ 0.1962205 , -0.05253508, -0.191836  ,  0.0102684 ,\n",
              "           0.18684123],\n",
              "         [-0.01617095,  0.19732037,  0.17957957, -0.09016316,\n",
              "           0.00384331]]],\n",
              "\n",
              "\n",
              "       [[[ 0.05203359,  0.12471869,  0.06802797,  0.16241662,\n",
              "          -0.00898874],\n",
              "         [ 0.04698842, -0.08257499, -0.03292666,  0.06964868,\n",
              "           0.11239958],\n",
              "         [ 0.1644436 , -0.09027195,  0.04440379, -0.11241891,\n",
              "           0.08861208],\n",
              "         [-0.07443839, -0.1810478 , -0.07917068, -0.02276244,\n",
              "          -0.196643  ],\n",
              "         [ 0.01478765, -0.06947618, -0.05874617,  0.16543649,\n",
              "          -0.19454165]]],\n",
              "\n",
              "\n",
              "       [[[ 0.16789292, -0.124296  , -0.10803528,  0.10522721,\n",
              "          -0.14563783],\n",
              "         [-0.01009643,  0.14213417,  0.19026767, -0.09051488,\n",
              "          -0.02750447],\n",
              "         [-0.05324979, -0.12623839,  0.07104671,  0.16113327,\n",
              "          -0.00678494],\n",
              "         [ 0.19514649, -0.13422802,  0.05924974, -0.11798117,\n",
              "          -0.192999  ],\n",
              "         [-0.00269468, -0.02859328,  0.1199466 , -0.1701467 ,\n",
              "          -0.0473871 ]]],\n",
              "\n",
              "\n",
              "       [[[-0.04630206, -0.01084154, -0.04541781,  0.17052312,\n",
              "          -0.07519107],\n",
              "         [-0.07537907,  0.14929624, -0.13803697,  0.08582878,\n",
              "          -0.05175338],\n",
              "         [-0.13739537, -0.17031756, -0.01196303, -0.02940168,\n",
              "           0.0977992 ],\n",
              "         [ 0.00744309, -0.07971139,  0.01787956,  0.03476312,\n",
              "          -0.173209  ],\n",
              "         [ 0.07660999, -0.15013006,  0.18292549, -0.151435  ,\n",
              "          -0.01809123]]],\n",
              "\n",
              "\n",
              "       [[[ 0.05023506, -0.09715159,  0.08449822, -0.00749838,\n",
              "          -0.00153749],\n",
              "         [-0.17095569, -0.15049794,  0.14548497,  0.07975548,\n",
              "           0.05253699],\n",
              "         [ 0.11750603,  0.08465939,  0.14029959, -0.05117233,\n",
              "           0.15535565],\n",
              "         [-0.17722784, -0.01331623, -0.06520794, -0.07846904,\n",
              "           0.17934446],\n",
              "         [ 0.01732647, -0.00298154, -0.18003531,  0.05735412,\n",
              "          -0.12180912]]],\n",
              "\n",
              "\n",
              "       [[[-0.05789874,  0.12262326, -0.00034878, -0.19739676,\n",
              "           0.05134504],\n",
              "         [-0.11107903,  0.0325989 , -0.16094084, -0.03267086,\n",
              "          -0.03280325],\n",
              "         [ 0.04976192, -0.05920558,  0.16551705, -0.18853262,\n",
              "           0.10917332],\n",
              "         [ 0.13670841,  0.14513655,  0.16589764,  0.02360897,\n",
              "           0.05497844],\n",
              "         [ 0.05193274,  0.15739357,  0.04663244,  0.10084062,\n",
              "          -0.03134651]]],\n",
              "\n",
              "\n",
              "       [[[-0.05170398, -0.15255335,  0.18906395,  0.12911025,\n",
              "          -0.15324616],\n",
              "         [-0.09331281, -0.18204275, -0.05934301, -0.16994596,\n",
              "           0.06771427],\n",
              "         [ 0.08082118, -0.11009128,  0.02909365,  0.00670748,\n",
              "           0.06404634],\n",
              "         [-0.08734258, -0.09102578,  0.10380135,  0.05730698,\n",
              "           0.03057497],\n",
              "         [-0.05716484, -0.18737654,  0.07207842,  0.05272131,\n",
              "          -0.18139906]]],\n",
              "\n",
              "\n",
              "       [[[-0.07340634,  0.04863   , -0.10676195,  0.04633067,\n",
              "           0.15456961],\n",
              "         [ 0.19454928, -0.04447386, -0.18341482,  0.01202242,\n",
              "          -0.01181524],\n",
              "         [-0.1389629 , -0.08747404,  0.12063163,  0.01968794,\n",
              "           0.10206842],\n",
              "         [ 0.03615892,  0.04947758,  0.01510229, -0.18758352,\n",
              "           0.09755387],\n",
              "         [ 0.00359082, -0.15079439,  0.13831758, -0.05613394,\n",
              "           0.09052713]]],\n",
              "\n",
              "\n",
              "       [[[ 0.15065277, -0.0757936 , -0.15851131, -0.19787228,\n",
              "          -0.08723591],\n",
              "         [ 0.16695364,  0.1560928 ,  0.07630002,  0.08726008,\n",
              "           0.05264895],\n",
              "         [-0.06289506,  0.16439068,  0.14952996, -0.07680662,\n",
              "           0.15414341],\n",
              "         [ 0.09654202, -0.19864066,  0.05145011,  0.11076703,\n",
              "          -0.19962917],\n",
              "         [ 0.17301813,  0.08170395,  0.08666179, -0.17270537,\n",
              "          -0.1895142 ]]],\n",
              "\n",
              "\n",
              "       [[[ 0.12054765,  0.03173683,  0.00479527,  0.17947593,\n",
              "          -0.12738729],\n",
              "         [-0.13320605,  0.19843805, -0.08592384,  0.04359162,\n",
              "          -0.11230993],\n",
              "         [ 0.1255741 ,  0.00659986, -0.05638726, -0.16962402,\n",
              "           0.07826698],\n",
              "         [-0.16836663,  0.19001095,  0.09325099, -0.06720143,\n",
              "           0.04780583],\n",
              "         [-0.04643421,  0.10500975,  0.15468433, -0.02577281,\n",
              "          -0.018465  ]]],\n",
              "\n",
              "\n",
              "       [[[-0.11608181,  0.19857302,  0.13393405, -0.03492668,\n",
              "          -0.04292579],\n",
              "         [ 0.12133453, -0.12831397, -0.06737628,  0.18410455,\n",
              "           0.00204163],\n",
              "         [ 0.05054014,  0.11091337,  0.10950921, -0.13791744,\n",
              "          -0.02548516],\n",
              "         [-0.04490721,  0.02726147, -0.19741838, -0.18616977,\n",
              "           0.11353891],\n",
              "         [-0.02906172, -0.11742201, -0.11151715,  0.08510201,\n",
              "           0.01479471]]],\n",
              "\n",
              "\n",
              "       [[[-0.02833269,  0.1330458 ,  0.00996809,  0.13289301,\n",
              "          -0.10009594],\n",
              "         [-0.14326508, -0.19253424,  0.13519287, -0.10831477,\n",
              "          -0.08240562],\n",
              "         [ 0.02937257, -0.04556346,  0.03061101,  0.10776138,\n",
              "           0.06466842],\n",
              "         [ 0.12365153, -0.06525681, -0.17252605, -0.14993227,\n",
              "          -0.14799689],\n",
              "         [-0.01791599, -0.06333244, -0.05540564,  0.08775561,\n",
              "          -0.0531507 ]]],\n",
              "\n",
              "\n",
              "       [[[-0.16657177,  0.17409435,  0.06009419, -0.12817605,\n",
              "          -0.04924078],\n",
              "         [-0.12203961, -0.16230105,  0.12183791,  0.12126308,\n",
              "          -0.00723994],\n",
              "         [-0.05972321,  0.18882464, -0.1324909 ,  0.11519396,\n",
              "          -0.01334369],\n",
              "         [ 0.07726675, -0.04725122,  0.10241103,  0.14830267,\n",
              "          -0.15603666],\n",
              "         [ 0.00372143,  0.11871636, -0.07261467,  0.02431819,\n",
              "          -0.15142615]]],\n",
              "\n",
              "\n",
              "       [[[-0.04798155, -0.00091081, -0.1854744 ,  0.1305335 ,\n",
              "          -0.09268361],\n",
              "         [-0.04852336,  0.07197259, -0.03849156, -0.09795022,\n",
              "          -0.18230624],\n",
              "         [-0.03248389,  0.03873258,  0.12212243,  0.14980356,\n",
              "           0.01087515],\n",
              "         [-0.10808342,  0.05830915,  0.18652168, -0.03289802,\n",
              "           0.17232458],\n",
              "         [ 0.04974501, -0.14538741, -0.16383873,  0.05478978,\n",
              "          -0.00171754]]],\n",
              "\n",
              "\n",
              "       [[[ 0.19944783,  0.01978598,  0.12828775, -0.14632328,\n",
              "          -0.19472165],\n",
              "         [ 0.05111938, -0.05088911,  0.01046243,  0.16659044,\n",
              "           0.12747388],\n",
              "         [ 0.17028666,  0.12315672, -0.1109679 , -0.15439887,\n",
              "           0.08095551],\n",
              "         [ 0.08815093,  0.1066679 ,  0.18735781, -0.19620684,\n",
              "           0.10935488],\n",
              "         [-0.01252639,  0.00965247, -0.09675863,  0.15951765,\n",
              "          -0.06959277]]],\n",
              "\n",
              "\n",
              "       [[[ 0.07919281, -0.01148486,  0.171577  ,  0.13392833,\n",
              "          -0.01326582],\n",
              "         [-0.07514083,  0.07212108,  0.10585461,  0.14199212,\n",
              "          -0.07892971],\n",
              "         [ 0.11793675,  0.06535506,  0.08306699, -0.10112851,\n",
              "           0.15868056],\n",
              "         [-0.04046369, -0.02367756,  0.11772361, -0.05641467,\n",
              "           0.17987917],\n",
              "         [-0.18238766, -0.01115263, -0.12355845, -0.15309386,\n",
              "           0.18380181]]],\n",
              "\n",
              "\n",
              "       [[[-0.16285446,  0.09012187, -0.05604594, -0.15808724,\n",
              "          -0.0063796 ],\n",
              "         [ 0.0477247 , -0.10514646, -0.08741052, -0.17484136,\n",
              "           0.04859083],\n",
              "         [-0.05858738, -0.08651719,  0.11753664, -0.03651481,\n",
              "          -0.08585393],\n",
              "         [ 0.06949153,  0.18011127,  0.0460505 ,  0.03716946,\n",
              "           0.07801483],\n",
              "         [-0.10981851,  0.01838028, -0.08074939,  0.05674093,\n",
              "           0.08732729]]],\n",
              "\n",
              "\n",
              "       [[[-0.14708327,  0.11801284, -0.13133664,  0.08114614,\n",
              "           0.16822909],\n",
              "         [ 0.03365586,  0.15265743, -0.11906125,  0.1140733 ,\n",
              "          -0.05658925],\n",
              "         [-0.15718952,  0.11290777,  0.16713083,  0.14560376,\n",
              "          -0.15468161],\n",
              "         [ 0.11773475, -0.0938098 ,  0.1396179 , -0.06923252,\n",
              "           0.09006567],\n",
              "         [ 0.19341867,  0.0836245 ,  0.00210361, -0.12909976,\n",
              "           0.16724813]]],\n",
              "\n",
              "\n",
              "       [[[-0.07632861,  0.05389195,  0.02863724,  0.1285826 ,\n",
              "          -0.11021383],\n",
              "         [ 0.00040042,  0.10474324,  0.17468576,  0.10472834,\n",
              "          -0.19426067],\n",
              "         [-0.02081015,  0.1594423 , -0.14460321,  0.12472882,\n",
              "          -0.03374086],\n",
              "         [-0.0192524 ,  0.06260472,  0.10516842,  0.08915532,\n",
              "          -0.17610942],\n",
              "         [-0.12366722,  0.13108638,  0.00911398,  0.04228914,\n",
              "          -0.17043947]]],\n",
              "\n",
              "\n",
              "       [[[-0.13740121, -0.07780685,  0.0446276 , -0.04229477,\n",
              "          -0.13979249],\n",
              "         [ 0.03472018,  0.08090036,  0.10374647, -0.12160196,\n",
              "           0.06660838],\n",
              "         [-0.19204953, -0.17000651, -0.19116624,  0.03535271,\n",
              "           0.09346063],\n",
              "         [ 0.19783883,  0.15658687,  0.15026955, -0.10936642,\n",
              "          -0.17885867],\n",
              "         [-0.02729046, -0.13751276, -0.13623874,  0.15796602,\n",
              "           0.16908534]]]], dtype=float32)"
            ]
          },
          "metadata": {
            "tags": []
          },
          "execution_count": 42
        }
      ]
    },
    {
      "cell_type": "code",
      "metadata": {
        "id": "SrgWx0t9_MQB",
        "outputId": "8e4cf389-725d-4a45-a22b-13a83e9ff0aa",
        "colab": {
          "base_uri": "https://localhost:8080/",
          "height": 265
        }
      },
      "source": [
        "plt.imshow(weight[0,0,:,:],'jet')\n",
        "plt.colorbar()\n",
        "plt.show()"
      ],
      "execution_count": 43,
      "outputs": [
        {
          "output_type": "display_data",
          "data": {
            "image/png": "[encoded data removed]",
            "text/plain": [
              "<Figure size 432x288 with 2 Axes>"
            ]
          },
          "metadata": {
            "tags": [],
            "needs_background": "light"
          }
        }
      ]
    },
    {
      "cell_type": "code",
      "metadata": {
        "id": "1UXTSC1l_X0C",
        "outputId": "e1d6a250-5054-4e75-fa89-fd328a4ebae6",
        "colab": {
          "base_uri": "https://localhost:8080/",
          "height": 321
        }
      },
      "source": [
        "layer(image)"
      ],
      "execution_count": 55,
      "outputs": [
        {
          "output_type": "error",
          "ename": "TypeError",
          "evalue": "ignored",
          "traceback": [
            "\u001b[0;31m---------------------------------------------------------------------------\u001b[0m",
            "\u001b[0;31mTypeError\u001b[0m                                 Traceback (most recent call last)",
            "\u001b[0;32m<ipython-input-55-fa34b6090119>\u001b[0m in \u001b[0;36m<module>\u001b[0;34m()\u001b[0m\n\u001b[0;32m----> 1\u001b[0;31m \u001b[0mlayer\u001b[0m\u001b[0;34m(\u001b[0m\u001b[0mimage\u001b[0m\u001b[0;34m)\u001b[0m\u001b[0;34m\u001b[0m\u001b[0;34m\u001b[0m\u001b[0m\n\u001b[0m",
            "\u001b[0;32m/usr/local/lib/python3.6/dist-packages/torch/nn/modules/module.py\u001b[0m in \u001b[0;36m_call_impl\u001b[0;34m(self, *input, **kwargs)\u001b[0m\n\u001b[1;32m    725\u001b[0m             \u001b[0mresult\u001b[0m \u001b[0;34m=\u001b[0m \u001b[0mself\u001b[0m\u001b[0;34m.\u001b[0m\u001b[0m_slow_forward\u001b[0m\u001b[0;34m(\u001b[0m\u001b[0;34m*\u001b[0m\u001b[0minput\u001b[0m\u001b[0;34m,\u001b[0m \u001b[0;34m**\u001b[0m\u001b[0mkwargs\u001b[0m\u001b[0;34m)\u001b[0m\u001b[0;34m\u001b[0m\u001b[0;34m\u001b[0m\u001b[0m\n\u001b[1;32m    726\u001b[0m         \u001b[0;32melse\u001b[0m\u001b[0;34m:\u001b[0m\u001b[0;34m\u001b[0m\u001b[0;34m\u001b[0m\u001b[0m\n\u001b[0;32m--> 727\u001b[0;31m             \u001b[0mresult\u001b[0m \u001b[0;34m=\u001b[0m \u001b[0mself\u001b[0m\u001b[0;34m.\u001b[0m\u001b[0mforward\u001b[0m\u001b[0;34m(\u001b[0m\u001b[0;34m*\u001b[0m\u001b[0minput\u001b[0m\u001b[0;34m,\u001b[0m \u001b[0;34m**\u001b[0m\u001b[0mkwargs\u001b[0m\u001b[0;34m)\u001b[0m\u001b[0;34m\u001b[0m\u001b[0;34m\u001b[0m\u001b[0m\n\u001b[0m\u001b[1;32m    728\u001b[0m         for hook in itertools.chain(\n\u001b[1;32m    729\u001b[0m                 \u001b[0m_global_forward_hooks\u001b[0m\u001b[0;34m.\u001b[0m\u001b[0mvalues\u001b[0m\u001b[0;34m(\u001b[0m\u001b[0;34m)\u001b[0m\u001b[0;34m,\u001b[0m\u001b[0;34m\u001b[0m\u001b[0;34m\u001b[0m\u001b[0m\n",
            "\u001b[0;32m/usr/local/lib/python3.6/dist-packages/torch/nn/modules/conv.py\u001b[0m in \u001b[0;36mforward\u001b[0;34m(self, input)\u001b[0m\n\u001b[1;32m    421\u001b[0m \u001b[0;34m\u001b[0m\u001b[0m\n\u001b[1;32m    422\u001b[0m     \u001b[0;32mdef\u001b[0m \u001b[0mforward\u001b[0m\u001b[0;34m(\u001b[0m\u001b[0mself\u001b[0m\u001b[0;34m,\u001b[0m \u001b[0minput\u001b[0m\u001b[0;34m:\u001b[0m \u001b[0mTensor\u001b[0m\u001b[0;34m)\u001b[0m \u001b[0;34m->\u001b[0m \u001b[0mTensor\u001b[0m\u001b[0;34m:\u001b[0m\u001b[0;34m\u001b[0m\u001b[0;34m\u001b[0m\u001b[0m\n\u001b[0;32m--> 423\u001b[0;31m         \u001b[0;32mreturn\u001b[0m \u001b[0mself\u001b[0m\u001b[0;34m.\u001b[0m\u001b[0m_conv_forward\u001b[0m\u001b[0;34m(\u001b[0m\u001b[0minput\u001b[0m\u001b[0;34m,\u001b[0m \u001b[0mself\u001b[0m\u001b[0;34m.\u001b[0m\u001b[0mweight\u001b[0m\u001b[0;34m)\u001b[0m\u001b[0;34m\u001b[0m\u001b[0;34m\u001b[0m\u001b[0m\n\u001b[0m\u001b[1;32m    424\u001b[0m \u001b[0;34m\u001b[0m\u001b[0m\n\u001b[1;32m    425\u001b[0m \u001b[0;32mclass\u001b[0m \u001b[0mConv3d\u001b[0m\u001b[0;34m(\u001b[0m\u001b[0m_ConvNd\u001b[0m\u001b[0;34m)\u001b[0m\u001b[0;34m:\u001b[0m\u001b[0;34m\u001b[0m\u001b[0;34m\u001b[0m\u001b[0m\n",
            "\u001b[0;32m/usr/local/lib/python3.6/dist-packages/torch/nn/modules/conv.py\u001b[0m in \u001b[0;36m_conv_forward\u001b[0;34m(self, input, weight)\u001b[0m\n\u001b[1;32m    418\u001b[0m                             _pair(0), self.dilation, self.groups)\n\u001b[1;32m    419\u001b[0m         return F.conv2d(input, weight, self.bias, self.stride,\n\u001b[0;32m--> 420\u001b[0;31m                         self.padding, self.dilation, self.groups)\n\u001b[0m\u001b[1;32m    421\u001b[0m \u001b[0;34m\u001b[0m\u001b[0m\n\u001b[1;32m    422\u001b[0m     \u001b[0;32mdef\u001b[0m \u001b[0mforward\u001b[0m\u001b[0;34m(\u001b[0m\u001b[0mself\u001b[0m\u001b[0;34m,\u001b[0m \u001b[0minput\u001b[0m\u001b[0;34m:\u001b[0m \u001b[0mTensor\u001b[0m\u001b[0;34m)\u001b[0m \u001b[0;34m->\u001b[0m \u001b[0mTensor\u001b[0m\u001b[0;34m:\u001b[0m\u001b[0;34m\u001b[0m\u001b[0;34m\u001b[0m\u001b[0m\n",
            "\u001b[0;31mTypeError\u001b[0m: conv2d(): argument 'input' (position 1) must be Tensor, not numpy.ndarray"
          ]
        }
      ]
    }
  ]
}