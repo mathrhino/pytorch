{
  "nbformat": 4,
  "nbformat_minor": 0,
  "metadata": {
    "colab": {
      "name": "torch_mnist_total",
      "provenance": [],
      "authorship_tag": "ABX9TyNqFdQGd+sesrL0TCBpy4Xf",
      "include_colab_link": true
    },
    "kernelspec": {
      "name": "python3",
      "display_name": "Python 3"
    }
  },
  "cells": [
    {
      "cell_type": "markdown",
      "metadata": {
        "id": "view-in-github",
        "colab_type": "text"
      },
      "source": [
        "<a href=\"https://colab.research.google.com/github/mathrhino/pytorch/blob/main/torch_mnist_total.ipynb\" target=\"_parent\"><img src=\"https://colab.research.google.com/assets/colab-badge.svg\" alt=\"Open In Colab\"/></a>"
      ]
    },
    {
      "cell_type": "code",
      "metadata": {
        "id": "aHt9FWu9dL4X"
      },
      "source": [
        "import os \n",
        "from glob import glob\n",
        "\n",
        "import torch\n",
        "import torch.nn as nn\n",
        "import torch.nn.functional as F \n",
        "import torch.optim as optim\n",
        "from torchvision import datasets, transforms\n",
        "\n",
        "import numpy as np"
      ],
      "execution_count": 38,
      "outputs": []
    },
    {
      "cell_type": "code",
      "metadata": {
        "id": "s_wzEEp4da4M"
      },
      "source": [
        "seed = 1\n",
        "\n",
        "batch_size= 64\n",
        "test_batch_size =64\n",
        "\n",
        "no_cuda=False"
      ],
      "execution_count": 39,
      "outputs": []
    },
    {
      "cell_type": "code",
      "metadata": {
        "id": "u1J-A0ZFdd98"
      },
      "source": [
        "use_cuda = not no_cuda and torch.cuda.is_available()\n",
        "device = torch.device(\"cuda\" if use_cuda else \"cpu\")"
      ],
      "execution_count": 40,
      "outputs": []
    },
    {
      "cell_type": "markdown",
      "metadata": {
        "id": "b9YCNLSKeTQz"
      },
      "source": [
        "#Preprocess#"
      ]
    },
    {
      "cell_type": "code",
      "metadata": {
        "id": "OgsRosjceUg8"
      },
      "source": [
        "torch.manual_seed(seed)\n",
        "\n",
        "train_loader = torch.utils.data.DataLoader(\n",
        "    datasets.MNIST('dataset', train=True, download=True,\n",
        "                   transform=transforms.Compose([\n",
        "                    transforms.ToTensor(),\n",
        "                    transforms.Normalize((0.1307,),(0.3081,))\n",
        "                   ])),\n",
        "                   batch_size=batch_size, shuffle=True\n",
        ")\n",
        "\n",
        "test_loader = torch.utils.data.DataLoader(\n",
        "    datasets.MNIST('dataset', train=False, transform=transforms.Compose([\n",
        "                                                                         transforms.ToTensor(),\n",
        "                                                                         transforms.Normalize((0.1307,),(0.3081))\n",
        "    ])),\n",
        "    batch_size=test_batch_size, shuffle=True\n",
        ") "
      ],
      "execution_count": 41,
      "outputs": []
    },
    {
      "cell_type": "code",
      "metadata": {
        "id": "TEyWTDBtfBPZ"
      },
      "source": [
        "class Net(nn.Module):\n",
        "  def __init__(self):\n",
        "    super(Net, self).__init__()\n",
        "    self.conv1=nn.Conv2d(1,20,5,1)\n",
        "    self.conv2=nn.Conv2d(20,50,5,1)\n",
        "    self.fc1=nn.Linear(4*4*50,500)\n",
        "    self.fc2=nn.Linear(500, 10)\n",
        "\n",
        "  def forward(self, x):\n",
        "    x = F.relu(self.conv1(x))\n",
        "    x = F.max_pool2d(x,2,2)\n",
        "    x = F.relu(self.conv2(x))\n",
        "    x = F.max_pool2d(x,2,2,)\n",
        "    \n",
        "    x=x.view(-1,4*4*50)\n",
        "    x=F.relu(self.fc1(x))\n",
        "    x=self.fc2(x)\n",
        "    return F.log_softmax(x, dim=1)"
      ],
      "execution_count": 42,
      "outputs": []
    },
    {
      "cell_type": "code",
      "metadata": {
        "id": "J8UwnR03fjkQ"
      },
      "source": [
        "model = Net().to(device)"
      ],
      "execution_count": 43,
      "outputs": []
    },
    {
      "cell_type": "code",
      "metadata": {
        "id": "A7ulUpG1fl59"
      },
      "source": [
        "optimizer = optim.SGD(model.parameters(), lr=0.001, momentum=0.5)\n"
      ],
      "execution_count": 44,
      "outputs": []
    },
    {
      "cell_type": "code",
      "metadata": {
        "colab": {
          "base_uri": "https://localhost:8080/"
        },
        "id": "keFNOAObfut0",
        "outputId": "112fc2e3-26fa-4212-f556-26b3afde9e05"
      },
      "source": [
        "params = list(model.parameters())\n",
        "for i in range(8):\n",
        "  print(params[i].size())"
      ],
      "execution_count": 45,
      "outputs": [
        {
          "output_type": "stream",
          "text": [
            "torch.Size([20, 1, 5, 5])\n",
            "torch.Size([20])\n",
            "torch.Size([50, 20, 5, 5])\n",
            "torch.Size([50])\n",
            "torch.Size([500, 800])\n",
            "torch.Size([500])\n",
            "torch.Size([10, 500])\n",
            "torch.Size([10])\n"
          ],
          "name": "stdout"
        }
      ]
    },
    {
      "cell_type": "code",
      "metadata": {
        "colab": {
          "base_uri": "https://localhost:8080/"
        },
        "id": "fDwKyxihgGqd",
        "outputId": "bcfb066e-83d5-4d70-e87b-72a0a6d58100"
      },
      "source": [
        "model.train()"
      ],
      "execution_count": 46,
      "outputs": [
        {
          "output_type": "execute_result",
          "data": {
            "text/plain": [
              "Net(\n",
              "  (conv1): Conv2d(1, 20, kernel_size=(5, 5), stride=(1, 1))\n",
              "  (conv2): Conv2d(20, 50, kernel_size=(5, 5), stride=(1, 1))\n",
              "  (fc1): Linear(in_features=800, out_features=500, bias=True)\n",
              "  (fc2): Linear(in_features=500, out_features=10, bias=True)\n",
              ")"
            ]
          },
          "metadata": {
            "tags": []
          },
          "execution_count": 46
        }
      ]
    },
    {
      "cell_type": "code",
      "metadata": {
        "id": "lCztyIHMgPW9"
      },
      "source": [
        "data, target = next(iter(train_loader))"
      ],
      "execution_count": 47,
      "outputs": []
    },
    {
      "cell_type": "code",
      "metadata": {
        "colab": {
          "base_uri": "https://localhost:8080/"
        },
        "id": "ZHUoi1kFgR96",
        "outputId": "f934e658-8e2a-4fd0-d816-21a20b322176"
      },
      "source": [
        "data.shape, target.shape"
      ],
      "execution_count": 48,
      "outputs": [
        {
          "output_type": "execute_result",
          "data": {
            "text/plain": [
              "(torch.Size([64, 1, 28, 28]), torch.Size([64]))"
            ]
          },
          "metadata": {
            "tags": []
          },
          "execution_count": 48
        }
      ]
    },
    {
      "cell_type": "code",
      "metadata": {
        "id": "PG5wjELZgZKg"
      },
      "source": [
        "data, target = data.to(device), target.to(device)"
      ],
      "execution_count": 49,
      "outputs": []
    },
    {
      "cell_type": "code",
      "metadata": {
        "colab": {
          "base_uri": "https://localhost:8080/"
        },
        "id": "d5n7WhddgeM4",
        "outputId": "473eebc2-41d0-4b37-af20-2cea5f461210"
      },
      "source": [
        "data.shape, target.shape"
      ],
      "execution_count": 50,
      "outputs": [
        {
          "output_type": "execute_result",
          "data": {
            "text/plain": [
              "(torch.Size([64, 1, 28, 28]), torch.Size([64]))"
            ]
          },
          "metadata": {
            "tags": []
          },
          "execution_count": 50
        }
      ]
    },
    {
      "cell_type": "code",
      "metadata": {
        "id": "n-oblcWsgg3-"
      },
      "source": [
        "#optimizer의 gradient를 clear해서 새로운 최적화 값 찾기\n",
        "\n",
        "optimizer.zero_grad()"
      ],
      "execution_count": 51,
      "outputs": []
    },
    {
      "cell_type": "code",
      "metadata": {
        "id": "2Y1HxAFGgr62"
      },
      "source": [
        "output = model(data)"
      ],
      "execution_count": 52,
      "outputs": []
    },
    {
      "cell_type": "code",
      "metadata": {
        "id": "iQP2WufIgx8X"
      },
      "source": [
        "#nll = negative loss likelihood\n",
        "loss = F.nll_loss(output, target)"
      ],
      "execution_count": 53,
      "outputs": []
    },
    {
      "cell_type": "code",
      "metadata": {
        "id": "4C5mRFq6g8xz"
      },
      "source": [
        "#back propagation -> gradient 구하기\n",
        "loss.backward()"
      ],
      "execution_count": 54,
      "outputs": []
    },
    {
      "cell_type": "code",
      "metadata": {
        "id": "7er7OGI1hO2Z"
      },
      "source": [
        "#parameter update 필요\n",
        "optimizer.step()"
      ],
      "execution_count": 55,
      "outputs": []
    },
    {
      "cell_type": "code",
      "metadata": {
        "id": "Qs-LgpQohDbt"
      },
      "source": [
        "epochs = 1 \n",
        "log_interval =100"
      ],
      "execution_count": 56,
      "outputs": []
    },
    {
      "cell_type": "code",
      "metadata": {
        "colab": {
          "base_uri": "https://localhost:8080/"
        },
        "id": "ih372EZLhXgw",
        "outputId": "632f38ea-7af8-4dc2-d629-0b8e1ebf0bda"
      },
      "source": [
        "for epoch in range(1, epochs+1):\n",
        "  model.train()\n",
        "  for batch_idx, (data, target) in enumerate(train_loader):\n",
        "    data, target = data.to(device), target.to(device)\n",
        "    optimizer.zero_grad()\n",
        "    output = model(data)\n",
        "    loss = F.nll_loss(output, target)\n",
        "    loss.backward()\n",
        "    optimizer.step()\n",
        "\n",
        "      #학습이 잘 되는 지 파악하기\n",
        "    if batch_idx % log_interval ==0:\n",
        "        print('Train Epoch: {} [{}/{} ({:.0f}%)]\\tLoss: {:.6f}'.format(epoch, batch_idx * len(data), len(train_loader.dataset), 100* batch_idx/len(train_loader), loss.item()))\n",
        "  model.eval()\n",
        "\n",
        "  test_loss =0\n",
        "  correct =0\n",
        "\n",
        "  with torch.no_grad():\n",
        "    for data, target in test_loader:\n",
        "      data, target= data.to(device), target.to(device)\n",
        "      output = model(data)\n",
        "      test_loss += F.nll_loss(output, target, reduction='sum').item()\n",
        "      pred = output.argmax(dim=1, keepdim=True)\n",
        "      correct += pred.eq(target.view_as(pred)).sum().item()\n",
        "\n",
        "  test_loss /= len(test_loader.dataset)\n",
        "\n",
        "  print('\\nTest set: Average Loss: {:.4f}, Accuracy: {}/{} ({:.0f}%)\\n'. format(test_loss, correct, len(test_loader.dataset), 100.* correct/len(test_loader.dataset)))"
      ],
      "execution_count": 57,
      "outputs": [
        {
          "output_type": "stream",
          "text": [
            "Train Epoch: 1 [0/60000 (0%)]\tLoss: 2.295366\n",
            "Train Epoch: 1 [6400/60000 (11%)]\tLoss: 2.220284\n",
            "Train Epoch: 1 [12800/60000 (21%)]\tLoss: 2.136019\n",
            "Train Epoch: 1 [19200/60000 (32%)]\tLoss: 1.953842\n",
            "Train Epoch: 1 [25600/60000 (43%)]\tLoss: 1.498457\n",
            "Train Epoch: 1 [32000/60000 (53%)]\tLoss: 1.254111\n",
            "Train Epoch: 1 [38400/60000 (64%)]\tLoss: 0.842578\n",
            "Train Epoch: 1 [44800/60000 (75%)]\tLoss: 0.706257\n",
            "Train Epoch: 1 [51200/60000 (85%)]\tLoss: 0.586765\n",
            "Train Epoch: 1 [57600/60000 (96%)]\tLoss: 0.612415\n"
          ],
          "name": "stdout"
        }
      ]
    },
    {
      "cell_type": "code",
      "metadata": {
        "id": "o9zBIPC_pF4O"
      },
      "source": [
        "#Evaluation\n",
        "\n",
        "test_loss =0 \n",
        "correct =0\n",
        "\n",
        "with torch.no_grad():\n",
        "  data, target = next(iter(test_loader))\n",
        "  data, target = data.to(device), target.to(device)\n",
        "  output = model(data)\n",
        "\n",
        "  test_loss += F.nll_loss(output, target, reduction='sum').item()\n",
        "\n",
        "  pred = output.argmax(dim=1, keepdim=True)\n",
        "  correct = pred.eq(target.view_as(pred)).sum().item()"
      ],
      "execution_count": 58,
      "outputs": []
    },
    {
      "cell_type": "code",
      "metadata": {
        "colab": {
          "base_uri": "https://localhost:8080/"
        },
        "id": "9szaqflkpjvI",
        "outputId": "ae89c3f7-1269-4d71-8c1e-bc51e354e037"
      },
      "source": [
        "output.shape"
      ],
      "execution_count": 60,
      "outputs": [
        {
          "output_type": "execute_result",
          "data": {
            "text/plain": [
              "torch.Size([64, 10])"
            ]
          },
          "metadata": {
            "tags": []
          },
          "execution_count": 60
        }
      ]
    },
    {
      "cell_type": "code",
      "metadata": {
        "colab": {
          "base_uri": "https://localhost:8080/"
        },
        "id": "Dg5heFz9plwM",
        "outputId": "f5afb797-5d07-4376-fb43-014bd88b96df"
      },
      "source": [
        "pred.shape"
      ],
      "execution_count": 61,
      "outputs": [
        {
          "output_type": "execute_result",
          "data": {
            "text/plain": [
              "torch.Size([64, 1])"
            ]
          },
          "metadata": {
            "tags": []
          },
          "execution_count": 61
        }
      ]
    },
    {
      "cell_type": "code",
      "metadata": {
        "colab": {
          "base_uri": "https://localhost:8080/"
        },
        "id": "wlS7lxhlpnA8",
        "outputId": "0fc14f0e-9651-42a7-e7b4-75cb702556a5"
      },
      "source": [
        "target.view_as(pred).shape"
      ],
      "execution_count": 62,
      "outputs": [
        {
          "output_type": "execute_result",
          "data": {
            "text/plain": [
              "torch.Size([64, 1])"
            ]
          },
          "metadata": {
            "tags": []
          },
          "execution_count": 62
        }
      ]
    },
    {
      "cell_type": "code",
      "metadata": {
        "colab": {
          "base_uri": "https://localhost:8080/"
        },
        "id": "EAQexrsxppg7",
        "outputId": "0c79cd51-412e-4dbb-be1b-fc25bf281e57"
      },
      "source": [
        "pred.eq(target.view_as(pred)).sum().item()/ 64"
      ],
      "execution_count": 63,
      "outputs": [
        {
          "output_type": "execute_result",
          "data": {
            "text/plain": [
              "0.765625"
            ]
          },
          "metadata": {
            "tags": []
          },
          "execution_count": 63
        }
      ]
    },
    {
      "cell_type": "code",
      "metadata": {
        "colab": {
          "base_uri": "https://localhost:8080/"
        },
        "id": "8blAlbFOpubf",
        "outputId": "27e1f0c3-da44-4a21-d849-0de3422e1b81"
      },
      "source": [
        "test_loss"
      ],
      "execution_count": 64,
      "outputs": [
        {
          "output_type": "execute_result",
          "data": {
            "text/plain": [
              "41.98169708251953"
            ]
          },
          "metadata": {
            "tags": []
          },
          "execution_count": 64
        }
      ]
    },
    {
      "cell_type": "code",
      "metadata": {
        "colab": {
          "base_uri": "https://localhost:8080/"
        },
        "id": "bMuupoWLpzJQ",
        "outputId": "3a710229-a119-4862-b8bf-c4024b80e2fd"
      },
      "source": [
        "correct"
      ],
      "execution_count": 65,
      "outputs": [
        {
          "output_type": "execute_result",
          "data": {
            "text/plain": [
              "49"
            ]
          },
          "metadata": {
            "tags": []
          },
          "execution_count": 65
        }
      ]
    },
    {
      "cell_type": "code",
      "metadata": {
        "id": "7mZRcX6wp1WL"
      },
      "source": [
        "test_loss /= len(test_loader.dataset)"
      ],
      "execution_count": 67,
      "outputs": []
    },
    {
      "cell_type": "code",
      "metadata": {
        "colab": {
          "base_uri": "https://localhost:8080/"
        },
        "id": "T7L4zwD4p9sz",
        "outputId": "6e4418f2-ea8c-4e13-c478-f6109fcac285"
      },
      "source": [
        "test_loss "
      ],
      "execution_count": 68,
      "outputs": [
        {
          "output_type": "execute_result",
          "data": {
            "text/plain": [
              "0.0041981697082519535"
            ]
          },
          "metadata": {
            "tags": []
          },
          "execution_count": 68
        }
      ]
    },
    {
      "cell_type": "code",
      "metadata": {
        "colab": {
          "base_uri": "https://localhost:8080/"
        },
        "id": "Fj-LcF8CqF7P",
        "outputId": "d4158dc9-5601-41c5-b9d3-40c5e9dbf3d1"
      },
      "source": [
        "model.eval()\n",
        "\n",
        "test_loss =0\n",
        "correct =0\n",
        "\n",
        "with torch.no_grad():\n",
        "  for data, target in test_loader:\n",
        "    data, target= data.to(device), target.to(device)\n",
        "    output = model(data)\n",
        "    test_loss += F.nll_loss(output, target, reduction='sum').item()\n",
        "    pred = output.argmax(dim=1, keepdim=True)\n",
        "    correct += pred.eq(target.view_as(pred)).sum().item()\n",
        "\n",
        "test_loss /= len(test_loader.dataset)\n",
        "\n",
        "print('\\nTest set: Average Loss: {:.4f}, Accuracy: {}/{} ({:.0f}%)\\n'. format(test_loss, correct, len(test_loader.dataset), 100.* correct/len(test_loader.dataset)))"
      ],
      "execution_count": 70,
      "outputs": [
        {
          "output_type": "stream",
          "text": [
            "\n",
            "Test set: Average Loss: 0.4869, Accuracy: 8609/10000 (86%)\n",
            "\n"
          ],
          "name": "stdout"
        }
      ]
    }
  ]
}